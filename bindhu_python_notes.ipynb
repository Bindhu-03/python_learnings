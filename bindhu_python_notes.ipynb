{
  "nbformat": 4,
  "nbformat_minor": 0,
  "metadata": {
    "colab": {
      "provenance": [],
      "authorship_tag": "ABX9TyPU+wcYOif/xSdAw1LpCYvd",
      "include_colab_link": true
    },
    "kernelspec": {
      "name": "python3",
      "display_name": "Python 3"
    },
    "language_info": {
      "name": "python"
    }
  },
  "cells": [
    {
      "cell_type": "markdown",
      "metadata": {
        "id": "view-in-github",
        "colab_type": "text"
      },
      "source": [
        "<a href=\"https://colab.research.google.com/github/Bindhu-03/python_learnings/blob/main/bindhu_python_notes.ipynb\" target=\"_parent\"><img src=\"https://colab.research.google.com/assets/colab-badge.svg\" alt=\"Open In Colab\"/></a>"
      ]
    },
    {
      "cell_type": "markdown",
      "source": [
        "#Basics of Python\n"
      ],
      "metadata": {
        "id": "HddvVoI6RB9y"
      }
    },
    {
      "cell_type": "code",
      "execution_count": null,
      "metadata": {
        "id": "3frm5NCXPS8x"
      },
      "outputs": [],
      "source": [
        "#what is python?\n",
        "'''1.general purpose programming language\n",
        "2.high-level programming language\n",
        "3.object oriented programming language\n",
        "4.dynamically typed language\n",
        "5.interpreted language'''\n",
        "\n",
        "#why we require comments?\n",
        "'''for better understanding of the code'''"
      ]
    },
    {
      "cell_type": "code",
      "source": [
        "#what is stativcally typed programming language?\n",
        "'''In statically types programming language we need to define data types for the variable\n",
        "ex: java , cpp'''\n",
        "\n",
        "#what is high level programming language?\n",
        "'''human friendly language\n",
        "codes are not changing into binary form\n",
        "contains less no.of lines of code\n",
        "it is like an english language'''\n",
        "\n",
        "\n",
        "#what is low level language?\n",
        "'''they are machine-friendly language\n",
        "in this code is changing into binary form ex:[1010101010]\n",
        "it is like a binary language\n",
        "more lines of code\n",
        "ex: c,cpp'''"
      ],
      "metadata": {
        "id": "0xu1Z4r2Rk9S"
      },
      "execution_count": null,
      "outputs": []
    },
    {
      "cell_type": "markdown",
      "source": [
        "#Print \"hello world\""
      ],
      "metadata": {
        "id": "kjR035EFSmCr"
      }
    },
    {
      "cell_type": "code",
      "source": [
        "print(\"hello world\")\n"
      ],
      "metadata": {
        "colab": {
          "base_uri": "https://localhost:8080/"
        },
        "id": "ab2moQQnSprK",
        "outputId": "242a0a7d-6c10-463a-fd69-d35e639e6e26"
      },
      "execution_count": null,
      "outputs": [
        {
          "output_type": "stream",
          "name": "stdout",
          "text": [
            "hello world\n"
          ]
        }
      ]
    },
    {
      "cell_type": "markdown",
      "source": [
        "#Numerical Data Types"
      ],
      "metadata": {
        "id": "p-l-G02hSw6s"
      }
    },
    {
      "cell_type": "code",
      "source": [
        "#what are numericaldata types?\n",
        "'''there are 3 types on numerical datatypes\n",
        "1.int\n",
        "2.float\n",
        "3.complex'''\n",
        "\n",
        "#1.integer: a whole number either be +ve or -ve without decimal point.\n",
        "print(10)\n",
        "print(6)\n",
        "print(-10)\n",
        "\n",
        "#how to finf the data type of the value?\n",
        "'''use type() method'''\n",
        "print(type(10))\n",
        "print(type(6))\n",
        "print(type(-10))"
      ],
      "metadata": {
        "colab": {
          "base_uri": "https://localhost:8080/"
        },
        "id": "kLuTyRN-Sz_i",
        "outputId": "1061e28e-94fc-4e44-8ee1-5cb030354b8a"
      },
      "execution_count": null,
      "outputs": [
        {
          "output_type": "stream",
          "name": "stdout",
          "text": [
            "10\n",
            "6\n",
            "-10\n",
            "<class 'int'>\n",
            "<class 'int'>\n",
            "<class 'int'>\n"
          ]
        }
      ]
    },
    {
      "cell_type": "code",
      "source": [
        "#2.Float:' a whole number either +ve or -ve with decimal point\n",
        "print(10.5)\n",
        "print(6.0)\n",
        "print(-2.145)\n",
        "#how to know the type?\n",
        "print(type(10.5))\n",
        "print(type(6.0))\n",
        "print(type(-2.145))"
      ],
      "metadata": {
        "colab": {
          "base_uri": "https://localhost:8080/"
        },
        "id": "omyNO5iSTfeE",
        "outputId": "8c4b8554-2679-4d67-a3eb-1baa27f8df03"
      },
      "execution_count": null,
      "outputs": [
        {
          "output_type": "stream",
          "name": "stdout",
          "text": [
            "10.5\n",
            "6.0\n",
            "<class 'float'>\n",
            "<class 'float'>\n"
          ]
        }
      ]
    },
    {
      "cell_type": "code",
      "source": [
        "#3.complex number: a real number with itsimaginary part is known as complex number\n",
        "print(2+4j)\n",
        "print(type(2+4j))\n",
        "print(3-5j)\n",
        "print(type(3-5j))\n",
        "\n",
        "#what is 'j'?\n",
        "'''it is a imaginary number\n",
        "value of \"j\" is root(-1)'''"
      ],
      "metadata": {
        "colab": {
          "base_uri": "https://localhost:8080/"
        },
        "id": "AX2sWKQxT2g0",
        "outputId": "0057aeeb-fabf-4fa3-b13e-9d17ac317ceb"
      },
      "execution_count": null,
      "outputs": [
        {
          "output_type": "stream",
          "name": "stdout",
          "text": [
            "(2+4j)\n",
            "<class 'complex'>\n",
            "(3-5j)\n",
            "<class 'complex'>\n"
          ]
        }
      ]
    },
    {
      "cell_type": "markdown",
      "source": [
        "#Arithemetic operators"
      ],
      "metadata": {
        "id": "X9VRIBu3UamI"
      }
    },
    {
      "cell_type": "code",
      "source": [
        "#There are 7 arithmetic operators?\n",
        "#1.addition---> +\n",
        "print(2+3)\n",
        "#2.subtraction---> -\n",
        "print(3-1)\n",
        "#3.multiplication---> *\n",
        "print(6*7)\n"
      ],
      "metadata": {
        "colab": {
          "base_uri": "https://localhost:8080/"
        },
        "id": "Ga_3MRBjUeDC",
        "outputId": "39577965-1a31-4e10-cb8b-65ad65599b56"
      },
      "execution_count": null,
      "outputs": [
        {
          "output_type": "stream",
          "name": "stdout",
          "text": [
            "5\n",
            "2\n",
            "42\n"
          ]
        }
      ]
    },
    {
      "cell_type": "code",
      "source": [
        "#4.division---> /\n",
        "print(10/5)\n",
        "print(type(10/5))"
      ],
      "metadata": {
        "colab": {
          "base_uri": "https://localhost:8080/"
        },
        "id": "rY8bbRQqWnff",
        "outputId": "d1319b5a-cf6e-438f-ffcd-669a29f20ddd"
      },
      "execution_count": null,
      "outputs": [
        {
          "output_type": "stream",
          "name": "stdout",
          "text": [
            "2.0\n",
            "<class 'float'>\n"
          ]
        }
      ]
    },
    {
      "cell_type": "code",
      "source": [
        "#here we default floar value after division.why?\n",
        "'''When we are doing division sometime if you want to extract exact co-efficient\n",
        "you may get decimal values instead of defining the data type we are getting\n",
        "float data type'''"
      ],
      "metadata": {
        "id": "VVOCTdcYWxOw"
      },
      "execution_count": null,
      "outputs": []
    },
    {
      "cell_type": "code",
      "source": [
        "#5.floor division---> //\n",
        "'''It's a type of divisiom where it ignores all the values after decimal point'''\n",
        "print(10/3)\n",
        "print(10//3)\n"
      ],
      "metadata": {
        "colab": {
          "base_uri": "https://localhost:8080/"
        },
        "id": "vpctVhI7V8DC",
        "outputId": "7900ff32-649b-49b3-fe77-476c038bce6a"
      },
      "execution_count": null,
      "outputs": [
        {
          "output_type": "stream",
          "name": "stdout",
          "text": [
            "3.3333333333333335\n",
            "3\n"
          ]
        }
      ]
    },
    {
      "cell_type": "code",
      "source": [
        "#6.modulus---> %\n",
        "print(12%5)\n",
        "print(type(12%5))"
      ],
      "metadata": {
        "colab": {
          "base_uri": "https://localhost:8080/"
        },
        "id": "O7GgmB-tWTB-",
        "outputId": "7039719f-27ae-4978-b4dc-786ffa5b39e7"
      },
      "execution_count": null,
      "outputs": [
        {
          "output_type": "stream",
          "name": "stdout",
          "text": [
            "2\n",
            "<class 'int'>\n"
          ]
        }
      ]
    },
    {
      "cell_type": "code",
      "source": [
        "#7.exponent---> **\n",
        "print(9**3)\n",
        "print(type(9**3))"
      ],
      "metadata": {
        "colab": {
          "base_uri": "https://localhost:8080/"
        },
        "id": "o3XuuvoHWV93",
        "outputId": "91cecd19-eb23-4adc-d77a-208b7af8663c"
      },
      "execution_count": null,
      "outputs": [
        {
          "output_type": "stream",
          "name": "stdout",
          "text": [
            "729\n",
            "<class 'int'>\n"
          ]
        }
      ]
    },
    {
      "cell_type": "markdown",
      "source": [
        "#Round() function"
      ],
      "metadata": {
        "id": "d-kpLwl6PhtL"
      }
    },
    {
      "cell_type": "code",
      "source": [
        "#what is round function?\n",
        "'''rounding nearer values'''\n",
        "print(round(10.234))\n",
        "#when the values are below 0.5,then it will give the base value\n",
        "\n",
        "print(round(2.534))\n",
        "#when the values are below 0.5,then it will give the next value"
      ],
      "metadata": {
        "colab": {
          "base_uri": "https://localhost:8080/"
        },
        "id": "Hmc-iYVNWSiu",
        "outputId": "27125796-6708-4b03-dc27-833733a1c09e"
      },
      "execution_count": null,
      "outputs": [
        {
          "output_type": "stream",
          "name": "stdout",
          "text": [
            "10\n",
            "3\n"
          ]
        }
      ]
    },
    {
      "cell_type": "code",
      "source": [
        "#print specific decimal \"n digits\" from the value 2.53476?\n",
        "#expect output: 2.53\n",
        "'''use round() function--->rount(numbers,ndigits)'''\n",
        "print(round(2.53476,2))"
      ],
      "metadata": {
        "colab": {
          "base_uri": "https://localhost:8080/"
        },
        "id": "LngjVX2aXZ6c",
        "outputId": "184b3a7d-b046-4018-d60b-454110027eb9"
      },
      "execution_count": null,
      "outputs": [
        {
          "output_type": "stream",
          "name": "stdout",
          "text": [
            "2.53\n"
          ]
        }
      ]
    },
    {
      "cell_type": "code",
      "source": [
        "#what is the floor value and ceiling value?\n",
        "'''Floor value: these are the values before the decimal numbers\n",
        "Ceiling values: these are the upcoming or nearesr values'''"
      ],
      "metadata": {
        "id": "D953oXgeXZ2-"
      },
      "execution_count": null,
      "outputs": []
    },
    {
      "cell_type": "markdown",
      "source": [
        "#Types of errors"
      ],
      "metadata": {
        "id": "yiRBvERcYGkA"
      }
    },
    {
      "cell_type": "code",
      "source": [
        "#Types of errors?\n",
        "'''There are 2 types of errors\n",
        "1.Syntax errors\n",
        "2.Logical errors'''"
      ],
      "metadata": {
        "id": "TuSPo6f-XZ0p"
      },
      "execution_count": null,
      "outputs": []
    },
    {
      "cell_type": "code",
      "source": [
        "#Syntax Errors:\n",
        "'''Breaking the rules of programming language can  raise to suntax errors'''\n",
        "#print(2* *3)"
      ],
      "metadata": {
        "colab": {
          "base_uri": "https://localhost:8080/",
          "height": 36
        },
        "id": "2dmAn4EHXZxv",
        "outputId": "7b42a796-d98a-45d1-eb0e-7edea20b86e9"
      },
      "execution_count": null,
      "outputs": [
        {
          "output_type": "execute_result",
          "data": {
            "text/plain": [
              "'Breaking the rules of programming language can  raise to suntax errors'"
            ],
            "application/vnd.google.colaboratory.intrinsic+json": {
              "type": "string"
            }
          },
          "metadata": {},
          "execution_count": 18
        }
      ]
    },
    {
      "cell_type": "code",
      "source": [
        "#Logical erro:\n",
        "'''Except syntax error, all the errors come under logical errors\n",
        " ex: name error,recursive error,attribute error,indentation error,zero division error#'''\n",
        "#print(2/0)"
      ],
      "metadata": {
        "colab": {
          "base_uri": "https://localhost:8080/",
          "height": 54
        },
        "id": "hVUGCf9eYxv0",
        "outputId": "a4028ca6-1274-4451-af4c-cd53a454dafa"
      },
      "execution_count": null,
      "outputs": [
        {
          "output_type": "execute_result",
          "data": {
            "text/plain": [
              "'Except syntax error, all the errors come under logical errors\\n ex: name error,recursive error,attribute error,indentation error,zero division error#'"
            ],
            "application/vnd.google.colaboratory.intrinsic+json": {
              "type": "string"
            }
          },
          "metadata": {},
          "execution_count": 19
        }
      ]
    },
    {
      "cell_type": "markdown",
      "source": [
        "#Variables"
      ],
      "metadata": {
        "id": "atCzd9ShZWpB"
      }
    },
    {
      "cell_type": "code",
      "source": [
        "#what are variables?\n",
        "'''Variables are the containers where we can store valuable information and\n",
        "reuse it whenever required'''\n",
        "\n",
        "#what is the purpose of variables?\n",
        "'''to reduce memory size.'''\n",
        "\n",
        "#how to create a variable?\n",
        "x=40\n",
        "son_age=x/2\n",
        "print(son_age)\n",
        "\n",
        "#how we are going to access the variables?\n",
        "#using variable name\n",
        "#print(variable_name)"
      ],
      "metadata": {
        "colab": {
          "base_uri": "https://localhost:8080/"
        },
        "id": "iqeuDDJyXZu-",
        "outputId": "1bce62f1-c473-4802-af3b-edea8a2bb841"
      },
      "execution_count": null,
      "outputs": [
        {
          "output_type": "stream",
          "name": "stdout",
          "text": [
            "20.0\n"
          ]
        }
      ]
    },
    {
      "cell_type": "code",
      "source": [
        "#python is an interpreted programming language\n",
        "'''means it will execute the code line by line'''\n",
        "x=10\n",
        "y=23\n",
        "z=40\n",
        "print(x+y)"
      ],
      "metadata": {
        "colab": {
          "base_uri": "https://localhost:8080/"
        },
        "id": "QhKa41xHXZsi",
        "outputId": "249e79ea-1f4e-493e-a0d8-0d209e00894b"
      },
      "execution_count": null,
      "outputs": [
        {
          "output_type": "stream",
          "name": "stdout",
          "text": [
            "33\n"
          ]
        }
      ]
    },
    {
      "cell_type": "code",
      "source": [
        "#take two variables and apply all the arithmetic operationson it\n",
        "a=int(input())\n",
        "b=int(input())\n",
        "print(a+b)\n",
        "print(a-b)\n",
        "print(a*b)\n",
        "print(a/b)\n",
        "print(a//b)\n",
        "print(a%b)\n",
        "print(a**b)"
      ],
      "metadata": {
        "colab": {
          "base_uri": "https://localhost:8080/"
        },
        "id": "wQX7jFFFXZqA",
        "outputId": "31fb4ccd-9652-4c08-ba6d-8f67c9002294"
      },
      "execution_count": null,
      "outputs": [
        {
          "output_type": "stream",
          "name": "stdout",
          "text": [
            "20\n",
            "3\n",
            "23\n",
            "17\n",
            "60\n",
            "6.666666666666667\n",
            "6\n",
            "2\n",
            "8000\n"
          ]
        }
      ]
    },
    {
      "cell_type": "code",
      "source": [
        "#python is a dynamically types programming language\n",
        "'''we are not defining the dtypes for variables\n",
        "Python automatically reads dtypes'''\n",
        "x=10\n",
        "print(type(x))\n",
        "y='hello world'\n",
        "print(type(y))"
      ],
      "metadata": {
        "colab": {
          "base_uri": "https://localhost:8080/"
        },
        "id": "-raZIKZ9XZn3",
        "outputId": "191fb759-4abb-4697-f675-f5de238ef344"
      },
      "execution_count": null,
      "outputs": [
        {
          "output_type": "stream",
          "name": "stdout",
          "text": [
            "<class 'int'>\n",
            "<class 'str'>\n"
          ]
        }
      ]
    },
    {
      "cell_type": "markdown",
      "source": [
        "#rules to create variables"
      ],
      "metadata": {
        "id": "Hm_nAL7sbPXt"
      }
    },
    {
      "cell_type": "code",
      "source": [
        "#1.always start creating variable name with alphabet.\n",
        "a=\"hello world\"\n",
        "print(a)\n",
        "\n",
        "#2.don't start creating varuable names iwth numbers\n",
        "#1a=\"hello world\"\n",
        "#print(1a)\n",
        "\n",
        "'''3.if you follow rule 1 and rule2,then you can strat creating variables with\n",
        "alphabets inbetween you can use numbers'''\n",
        "a1=\"hello world\"\n",
        "print(a1)\n",
        "\n",
        "#4.don't give spaces in between the variables\n",
        "#5.don't use special characters like @#$%&\n",
        "#6.you start creating variables with (_)special character\n",
        "#7.always prefer variables in lower case"
      ],
      "metadata": {
        "id": "Ig-8TGQdXZlA"
      },
      "execution_count": null,
      "outputs": []
    },
    {
      "cell_type": "code",
      "source": [
        "#python is case-sensitive\n",
        "'''x and X are different variables'''\n",
        "a=20\n",
        "#print(A)\n"
      ],
      "metadata": {
        "id": "yJfa69_4cOSl"
      },
      "execution_count": null,
      "outputs": []
    },
    {
      "cell_type": "code",
      "source": [
        "#1.Assign multiple values to the multiple variables and print in seperate line\n",
        "a,b,c=10,20,30\n",
        "print(a,b,c,sep='\\n')"
      ],
      "metadata": {
        "colab": {
          "base_uri": "https://localhost:8080/"
        },
        "id": "Rtl2eOUwciMh",
        "outputId": "495b8aaa-7482-4d8d-dc67-bb16b3d27f5b"
      },
      "execution_count": null,
      "outputs": [
        {
          "output_type": "stream",
          "name": "stdout",
          "text": [
            "10\n",
            "20\n",
            "30\n"
          ]
        }
      ]
    },
    {
      "cell_type": "code",
      "source": [
        "#Assign same values to multiple variables and print in seperate lines\n",
        "a=b=c=10\n",
        "print(a,b,c,sep='\\n')"
      ],
      "metadata": {
        "colab": {
          "base_uri": "https://localhost:8080/"
        },
        "id": "ofF3h5Ud_zXv",
        "outputId": "206f5c7f-3585-4347-8683-fa2d4bae54ab"
      },
      "execution_count": null,
      "outputs": [
        {
          "output_type": "stream",
          "name": "stdout",
          "text": [
            "10\n",
            "10\n",
            "10\n"
          ]
        }
      ]
    },
    {
      "cell_type": "code",
      "source": [
        "'''Python idetifier is the name we give ti identify a variable,function,class,\n",
        "module or other object."
      ],
      "metadata": {
        "id": "1ZiOFwCn_zUY"
      },
      "execution_count": null,
      "outputs": []
    },
    {
      "cell_type": "markdown",
      "source": [
        "#Input()"
      ],
      "metadata": {
        "id": "Ie66db6HAM_i"
      }
    },
    {
      "cell_type": "code",
      "source": [
        "#what is input()\n",
        "'''it takes every info/data/values given by the user and stores it in a variable'''\n",
        "\n",
        "#where we have to use this input()\n",
        "'''when we want to take input i.e information/data/value from the user'''\n",
        "\n",
        "#what is the purpose of the input() function\n",
        "'''to take input from the user'''\n",
        "'''to maintain the memory'''\n"
      ],
      "metadata": {
        "colab": {
          "base_uri": "https://localhost:8080/",
          "height": 36
        },
        "id": "uJFn61yX_zSi",
        "outputId": "3ba93118-f655-4acc-c5f7-9357c2eecdd8"
      },
      "execution_count": null,
      "outputs": [
        {
          "output_type": "execute_result",
          "data": {
            "text/plain": [
              "'to maintain the memory'"
            ],
            "application/vnd.google.colaboratory.intrinsic+json": {
              "type": "string"
            }
          },
          "metadata": {},
          "execution_count": 4
        }
      ]
    },
    {
      "cell_type": "code",
      "source": [
        "#how to create input() and how to access the input()\n",
        "\n",
        "# we are using input() functio along with a variable name to create input()\n",
        "#we use print() to access the input()"
      ],
      "metadata": {
        "id": "hG_0N1tqA1nC"
      },
      "execution_count": null,
      "outputs": []
    },
    {
      "cell_type": "code",
      "source": [
        "#give message inside the input function\n",
        "a=input(\"enter your number: \")\n",
        "print(a)\n",
        "print(type(a))\n",
        "\n",
        "'''the default dtype for input() is string'''\n",
        "#why default dtype for input() is string?\n",
        "'''user may give different types of information/data/values, the input function has\n",
        "built in such a way so it can take any kind of information, so the default dtype is string'''\n"
      ],
      "metadata": {
        "colab": {
          "base_uri": "https://localhost:8080/"
        },
        "id": "edKgRyAS_zP9",
        "outputId": "640a5396-bc31-47f0-f49c-6e9eb74fdcb8"
      },
      "execution_count": null,
      "outputs": [
        {
          "output_type": "stream",
          "name": "stdout",
          "text": [
            "enter your number: 3\n",
            "3\n",
            "<class 'str'>\n"
          ]
        }
      ]
    },
    {
      "cell_type": "markdown",
      "source": [
        "#Strings"
      ],
      "metadata": {
        "id": "NA1IKm8oXW8-"
      }
    },
    {
      "cell_type": "code",
      "source": [
        "#what is string?\n",
        "'''string is a collection of characters'''\n",
        "'''collection of multiple charaters that are written inside single or double quotes'''\n",
        "print(\"hi i am using python\")\n",
        "print('hi i am using python')"
      ],
      "metadata": {
        "colab": {
          "base_uri": "https://localhost:8080/"
        },
        "id": "8C7O2uEqB6P9",
        "outputId": "30852020-2b09-44da-bd0e-806786312520"
      },
      "execution_count": null,
      "outputs": [
        {
          "output_type": "stream",
          "name": "stdout",
          "text": [
            "hi i am using python\n",
            "hi i am using python\n"
          ]
        }
      ]
    },
    {
      "cell_type": "code",
      "source": [
        "#string is a collection of multiple characters,each character in string can be accessible."
      ],
      "metadata": {
        "id": "fEuPeorQCMy0"
      },
      "execution_count": null,
      "outputs": []
    },
    {
      "cell_type": "code",
      "source": [
        "#How to access each character in a string?\n",
        "'''using index position numbers'''\n",
        "'''we are using  \"Indexing\" amd \"Slicing\" to access each character in a string'''\n",
        "'''index position numbers start from 0'''"
      ],
      "metadata": {
        "id": "7LwoChnpCMvk"
      },
      "execution_count": null,
      "outputs": []
    },
    {
      "cell_type": "code",
      "source": [
        "#Indexing: positional number of each character in a string\n",
        "#thse indexing position starts with zero\n",
        "#Slicing operator: -->[]--> it is used to break the string,also used to retreive substring from the main string."
      ],
      "metadata": {
        "id": "Pxl_hZQ0CMtE"
      },
      "execution_count": null,
      "outputs": []
    },
    {
      "cell_type": "code",
      "source": [
        "#what is a substring?\n",
        "'''a part of the main string.'''"
      ],
      "metadata": {
        "id": "5JT8ceq4CMqp"
      },
      "execution_count": null,
      "outputs": []
    },
    {
      "cell_type": "code",
      "source": [
        "x=\"hello world\"\n",
        "print(x)"
      ],
      "metadata": {
        "colab": {
          "base_uri": "https://localhost:8080/"
        },
        "id": "EGPptPawDE71",
        "outputId": "1ff73410-cf97-4318-9792-36539bed618f"
      },
      "execution_count": null,
      "outputs": [
        {
          "output_type": "stream",
          "name": "stdout",
          "text": [
            "hello world\n"
          ]
        }
      ]
    },
    {
      "cell_type": "code",
      "source": [
        "# how to find how many indexes and how to find length of a string?\n",
        "'''use len() function'''\n",
        "x=\"hello world\"\n",
        "print(len(x))\n",
        "\n",
        "'''to find the length of string we are using len function-->len()'''\n",
        "#how to find total index of the string,then substract with 1\n",
        "print(len(x)-1)"
      ],
      "metadata": {
        "colab": {
          "base_uri": "https://localhost:8080/"
        },
        "id": "nxkq2BMRDE5J",
        "outputId": "6462317e-498f-411d-9be3-5b27f7fe721c"
      },
      "execution_count": null,
      "outputs": [
        {
          "output_type": "stream",
          "name": "stdout",
          "text": [
            "11\n",
            "10\n"
          ]
        }
      ]
    },
    {
      "cell_type": "code",
      "source": [
        "#[start_index_value]\n",
        "x=\"hello world\"\n",
        "print(x[0])\n",
        "print(x[6])"
      ],
      "metadata": {
        "colab": {
          "base_uri": "https://localhost:8080/"
        },
        "id": "UJZPjlEXDE2Z",
        "outputId": "3df3db00-0158-45fc-d313-96ef7be93e5c"
      },
      "execution_count": null,
      "outputs": [
        {
          "output_type": "stream",
          "name": "stdout",
          "text": [
            "h\n",
            "w\n"
          ]
        }
      ]
    },
    {
      "cell_type": "code",
      "source": [
        "#if you want  range of chracters for example \"llo wo\" from the above string?\n",
        "#[start_index value,end_index_value]\n",
        "print(x[2:8])  #end-->always---n+1\n",
        "#when your print range of character by using slicing operation the end character, if u want to display then add it with 1"
      ],
      "metadata": {
        "colab": {
          "base_uri": "https://localhost:8080/"
        },
        "id": "dPtXwBLjDE0a",
        "outputId": "e60c2f0a-86ce-4b75-9e58-27f3e99dbac0"
      },
      "execution_count": null,
      "outputs": [
        {
          "output_type": "stream",
          "name": "stdout",
          "text": [
            "llo wo\n"
          ]
        }
      ]
    },
    {
      "cell_type": "code",
      "source": [
        "#print \"world\" from above string?\n",
        "print(x[6:11])"
      ],
      "metadata": {
        "colab": {
          "base_uri": "https://localhost:8080/"
        },
        "id": "VLL9W5a8EJu2",
        "outputId": "5fb7cff8-1e09-4d41-f2fe-fe4f9d595abe"
      },
      "execution_count": null,
      "outputs": [
        {
          "output_type": "stream",
          "name": "stdout",
          "text": [
            "world\n"
          ]
        }
      ]
    },
    {
      "cell_type": "code",
      "source": [
        "#print characters of the even position for the string \"Hello world!\"\n",
        "str=\"Hello world!\"\n",
        "print(str[0::2])"
      ],
      "metadata": {
        "colab": {
          "base_uri": "https://localhost:8080/"
        },
        "id": "Ri8HMzYMR8mt",
        "outputId": "178cc75c-5f6c-4d2e-e9dd-5a436c21d5e1"
      },
      "execution_count": null,
      "outputs": [
        {
          "output_type": "stream",
          "name": "stdout",
          "text": [
            "Hlowrd\n"
          ]
        }
      ]
    },
    {
      "cell_type": "code",
      "source": [
        "#print odd positions\n",
        "str=\"Hello world!\"\n",
        "print(str[1::2])\n"
      ],
      "metadata": {
        "colab": {
          "base_uri": "https://localhost:8080/"
        },
        "id": "6FfokmcAR8jN",
        "outputId": "11695a96-3eed-4caf-d444-9b21cda986b8"
      },
      "execution_count": null,
      "outputs": [
        {
          "output_type": "stream",
          "name": "stdout",
          "text": [
            "el ol!\n"
          ]
        }
      ]
    },
    {
      "cell_type": "code",
      "source": [
        "#DEFAULT INDEXING\n",
        "\"\"\"default slicing operation if you won't specify the index positional numbers then\n",
        "python can take 0 as the strat position number and length measure as the end position number\"\"\""
      ],
      "metadata": {
        "id": "yk37xgfLR8gE"
      },
      "execution_count": null,
      "outputs": []
    },
    {
      "cell_type": "code",
      "source": [
        "str=\"Hello world!\"\n",
        "print(str[1::2])#--->odd position characters\n",
        "print(str[::1]) #--->overall string\n",
        "print(str[::2]) #--->even position characters\n",
        "#default step value can be 1"
      ],
      "metadata": {
        "colab": {
          "base_uri": "https://localhost:8080/"
        },
        "id": "_-TVoM_-R8dZ",
        "outputId": "1bafabb2-f038-445d-8f62-757b119424bf"
      },
      "execution_count": null,
      "outputs": [
        {
          "output_type": "stream",
          "name": "stdout",
          "text": [
            "el ol!\n",
            "Hello world!\n",
            "Hlowrd\n"
          ]
        }
      ]
    },
    {
      "cell_type": "code",
      "source": [
        "#what is -ve indexing?\n",
        "\"\"\"indexing the positional characters from right to left(reverse direction) by using -ve numbers\"\"\"\n",
        "\"\"\"-ve indexing starts with -1\"\"\"\n",
        "'''by using -ve indexing we can access the characters in reverse dirextion'''\n",
        "\n",
        "s=\"Hello world!\"\n",
        "#[start]\n",
        "#print w using -ve indexing?\n",
        "\n",
        "print(s[-6])"
      ],
      "metadata": {
        "colab": {
          "base_uri": "https://localhost:8080/"
        },
        "id": "2KpaJbGJR8ay",
        "outputId": "be36196f-419a-4efc-b251-da0f63a8ea54"
      },
      "execution_count": null,
      "outputs": [
        {
          "output_type": "stream",
          "name": "stdout",
          "text": [
            "w\n"
          ]
        }
      ]
    },
    {
      "cell_type": "code",
      "source": [
        "#print range of characters in -ve indexing?\n",
        "#world\n",
        "s=\"Hello world!\"\n",
        "print(s[-6:-1])"
      ],
      "metadata": {
        "colab": {
          "base_uri": "https://localhost:8080/"
        },
        "id": "Rj1-lXYdR8Xe",
        "outputId": "c0619675-2a35-4224-abf7-9711a230c60b"
      },
      "execution_count": null,
      "outputs": [
        {
          "output_type": "stream",
          "name": "stdout",
          "text": [
            "world\n"
          ]
        }
      ]
    },
    {
      "cell_type": "code",
      "source": [
        "#reverse a string 'hello world!'\n",
        "s=\"Hello world!\"\n",
        "print(s[::-1])\n",
        "\n",
        "#[start:end:step]\n",
        "print(s[-1:-13:-1])"
      ],
      "metadata": {
        "colab": {
          "base_uri": "https://localhost:8080/"
        },
        "id": "e7p6cCiCR8Uj",
        "outputId": "4e7d704d-2f39-4af8-ad9e-989aa1e99ce1"
      },
      "execution_count": null,
      "outputs": [
        {
          "output_type": "stream",
          "name": "stdout",
          "text": [
            "!dlrow olleH\n",
            "!dlrow olleH\n"
          ]
        }
      ]
    },
    {
      "cell_type": "code",
      "source": [
        "#check whether the given string is palindrome or not?\n",
        "s=\"madam\"\n",
        "if s[::-1]==s:\n",
        "  print('palindrome')\n",
        "else:\n",
        "  print('not palindrome')"
      ],
      "metadata": {
        "colab": {
          "base_uri": "https://localhost:8080/"
        },
        "id": "abLnEa_0R8Rr",
        "outputId": "ba48df46-e14b-44f6-e808-a81a7a668289"
      },
      "execution_count": null,
      "outputs": [
        {
          "output_type": "stream",
          "name": "stdout",
          "text": [
            "palindrome\n"
          ]
        }
      ]
    },
    {
      "cell_type": "markdown",
      "source": [
        "#string methods"
      ],
      "metadata": {
        "id": "f1RiojRvUpvH"
      }
    },
    {
      "cell_type": "code",
      "source": [
        "#what are all string methods applicable?\n",
        "\"\"\"use dir() it will tell you what are all the methods can be application for the string\"\"\"\n",
        "\n",
        "#what is dir()?\n",
        "\"\"\"it returns what are all the methods aplicable on the given collection\"\"\"\n",
        "\n",
        "s=\"Hello world!\"\n",
        "#to find methods using dir()\n",
        "print(dir(s))"
      ],
      "metadata": {
        "colab": {
          "base_uri": "https://localhost:8080/"
        },
        "id": "U-MaQ1S-R8PG",
        "outputId": "89fdb1ac-beb1-48d3-a2b0-ee134da9a8d1"
      },
      "execution_count": null,
      "outputs": [
        {
          "output_type": "stream",
          "name": "stdout",
          "text": [
            "['__add__', '__class__', '__contains__', '__delattr__', '__dir__', '__doc__', '__eq__', '__format__', '__ge__', '__getattribute__', '__getitem__', '__getnewargs__', '__gt__', '__hash__', '__init__', '__init_subclass__', '__iter__', '__le__', '__len__', '__lt__', '__mod__', '__mul__', '__ne__', '__new__', '__reduce__', '__reduce_ex__', '__repr__', '__rmod__', '__rmul__', '__setattr__', '__sizeof__', '__str__', '__subclasshook__', 'capitalize', 'casefold', 'center', 'count', 'encode', 'endswith', 'expandtabs', 'find', 'format', 'format_map', 'index', 'isalnum', 'isalpha', 'isascii', 'isdecimal', 'isdigit', 'isidentifier', 'islower', 'isnumeric', 'isprintable', 'isspace', 'istitle', 'isupper', 'join', 'ljust', 'lower', 'lstrip', 'maketrans', 'partition', 'removeprefix', 'removesuffix', 'replace', 'rfind', 'rindex', 'rjust', 'rpartition', 'rsplit', 'rstrip', 'split', 'splitlines', 'startswith', 'strip', 'swapcase', 'title', 'translate', 'upper', 'zfill']\n"
          ]
        }
      ]
    },
    {
      "cell_type": "code",
      "source": [
        "#STRING METHODS:\n",
        "a=\"hello world!\"\n",
        "#1.capitalize:\n",
        "print(a.capitalize()) #-->capitalizes the starting character\n",
        "\n",
        "#2.upper:\n",
        "print(a.upper()) #-->capitalizes all the characters"
      ],
      "metadata": {
        "colab": {
          "base_uri": "https://localhost:8080/"
        },
        "id": "PjQpq5J6R7pg",
        "outputId": "40b40a06-667f-4063-950d-65054587dbb5"
      },
      "execution_count": null,
      "outputs": [
        {
          "output_type": "stream",
          "name": "stdout",
          "text": [
            "Hello world!\n",
            "HELLO WORLD!\n"
          ]
        }
      ]
    },
    {
      "cell_type": "code",
      "source": [
        "#3.lower():\n",
        "print(a.lower()) #-->converts all the characters to lower case"
      ],
      "metadata": {
        "id": "aMIsIw4aVvGt"
      },
      "execution_count": null,
      "outputs": []
    },
    {
      "cell_type": "code",
      "source": [
        "#title\n",
        "#swapcase\n",
        "#replace\n",
        "#strip\n",
        "#rstrip\n",
        "#lstrip"
      ],
      "metadata": {
        "id": "-_r_M1KoVvDH"
      },
      "execution_count": null,
      "outputs": []
    },
    {
      "cell_type": "code",
      "source": [
        "a=\"     Hello world!      \"\n",
        "print(a.lstrip())\n",
        "print(a.strip())\n",
        "print(a.rstrip())"
      ],
      "metadata": {
        "colab": {
          "base_uri": "https://localhost:8080/"
        },
        "id": "Zbv5h-7IVvAf",
        "outputId": "1f703589-93ab-4167-b657-490e7f9324d8"
      },
      "execution_count": null,
      "outputs": [
        {
          "output_type": "stream",
          "name": "stdout",
          "text": [
            "Hello world!      \n",
            "Hello world!\n",
            "     Hello world!\n"
          ]
        }
      ]
    },
    {
      "cell_type": "code",
      "source": [
        "#replacing the words:\n",
        "\"\"\"using replace()\"\"\"\n",
        "a=\"hello good morning\"\n",
        "print(a.replace(\"morning\",\"afternoon\"))"
      ],
      "metadata": {
        "colab": {
          "base_uri": "https://localhost:8080/"
        },
        "id": "meQKzOaoVu-k",
        "outputId": "39b04f3b-1f53-42dc-a993-8b8572871c09"
      },
      "execution_count": null,
      "outputs": [
        {
          "output_type": "stream",
          "name": "stdout",
          "text": [
            "hello good afternoon\n"
          ]
        }
      ]
    },
    {
      "cell_type": "code",
      "source": [
        "#fing\n",
        "#zfill\n",
        "#isalpha\n",
        "#isalnum\n",
        "#replace hello world with \"Hello UNIVERSE\""
      ],
      "metadata": {
        "id": "VJra1JVhWhQB"
      },
      "execution_count": null,
      "outputs": []
    },
    {
      "cell_type": "code",
      "source": [
        "a=\"Hello world!\"\n",
        "print(a.find(\"world\")) #returns the index position of the string"
      ],
      "metadata": {
        "colab": {
          "base_uri": "https://localhost:8080/"
        },
        "id": "PBt666rYWhMg",
        "outputId": "e63240bc-1e93-45f3-b414-ee055ddb2d55"
      },
      "execution_count": null,
      "outputs": [
        {
          "output_type": "stream",
          "name": "stdout",
          "text": [
            "6\n"
          ]
        }
      ]
    },
    {
      "cell_type": "code",
      "source": [
        "s=\"Hello world!\"\n",
        "print(s.zfill(25))\n"
      ],
      "metadata": {
        "colab": {
          "base_uri": "https://localhost:8080/"
        },
        "id": "zLGFftqcWhJr",
        "outputId": "4c573d89-b22e-4320-c329-ad7d9f931e7e"
      },
      "execution_count": null,
      "outputs": [
        {
          "output_type": "stream",
          "name": "stdout",
          "text": [
            "0000000000000Hello world!\n"
          ]
        }
      ]
    },
    {
      "cell_type": "code",
      "source": [
        "s=\"Hello world!\"\n",
        "print(s.isalpha())"
      ],
      "metadata": {
        "colab": {
          "base_uri": "https://localhost:8080/"
        },
        "id": "ERjf5hKeWhHc",
        "outputId": "8aab075c-763e-4c91-f10b-1c658668a3c4"
      },
      "execution_count": null,
      "outputs": [
        {
          "output_type": "stream",
          "name": "stdout",
          "text": [
            "False\n"
          ]
        }
      ]
    },
    {
      "cell_type": "code",
      "source": [
        "s=\"123456789\"\n",
        "print(s.isalnum())"
      ],
      "metadata": {
        "colab": {
          "base_uri": "https://localhost:8080/"
        },
        "id": "881YNDo1WhEv",
        "outputId": "525c488d-6d60-4bcc-fe08-4329440d6457"
      },
      "execution_count": null,
      "outputs": [
        {
          "output_type": "stream",
          "name": "stdout",
          "text": [
            "True\n"
          ]
        }
      ]
    },
    {
      "cell_type": "markdown",
      "source": [
        "#string formatting methods"
      ],
      "metadata": {
        "id": "ccew2fjDXJV1"
      }
    },
    {
      "cell_type": "code",
      "source": [
        "#whta is string formatting methods?\n",
        "\"\"\"it is defines as formatting methods that takes an argument and place it over a placeholder{}.\"\"\"\n",
        "\"\"\"this can be of 3 types\"\"\"\n",
        "\n",
        "age=10\n",
        "my='my age is'\n",
        "print(my,age)"
      ],
      "metadata": {
        "colab": {
          "base_uri": "https://localhost:8080/"
        },
        "id": "nnYoYrQoWhB2",
        "outputId": "8a37f70f-4bba-44c9-bd89-190582062f2e"
      },
      "execution_count": null,
      "outputs": [
        {
          "output_type": "stream",
          "name": "stdout",
          "text": [
            "my age is 10\n"
          ]
        }
      ]
    },
    {
      "cell_type": "code",
      "source": [
        "#string concatenation\n",
        "a=\"hello\"\n",
        "b=\"world\"\n",
        "print(a+\" \"+b)"
      ],
      "metadata": {
        "colab": {
          "base_uri": "https://localhost:8080/"
        },
        "id": "x-y6BSfbWg_V",
        "outputId": "879f44cc-636a-444c-a01b-c6dd083f81c4"
      },
      "execution_count": null,
      "outputs": [
        {
          "output_type": "stream",
          "name": "stdout",
          "text": [
            "hello world\n"
          ]
        }
      ]
    },
    {
      "cell_type": "code",
      "source": [
        "#1st format method.\n",
        "#print formatting method\n",
        "age=10\n",
        "my_age=\"i am {} years old\"\n",
        "print(my_age.format(10))"
      ],
      "metadata": {
        "colab": {
          "base_uri": "https://localhost:8080/"
        },
        "id": "lVVAqAuaWg87",
        "outputId": "7985129c-129f-4ed0-db03-b5489b76a0c6"
      },
      "execution_count": null,
      "outputs": [
        {
          "output_type": "stream",
          "name": "stdout",
          "text": [
            "i am 10 years old\n"
          ]
        }
      ]
    },
    {
      "cell_type": "code",
      "source": [
        "#2nd string format method using format at end of the string\n",
        "age=10\n",
        "my_age=\"i am {} years old.\".format(10)\n",
        "print(my_age)"
      ],
      "metadata": {
        "colab": {
          "base_uri": "https://localhost:8080/"
        },
        "id": "9ISj2MpdWg6Q",
        "outputId": "73122898-0bfd-4404-8968-f7f193ae5a0b"
      },
      "execution_count": null,
      "outputs": [
        {
          "output_type": "stream",
          "name": "stdout",
          "text": [
            "i am 10 years old.\n"
          ]
        }
      ]
    },
    {
      "cell_type": "code",
      "source": [
        "#3rs format f'string format method:\n",
        "age=10\n",
        "m_age=f'i am {age} years old'\n",
        "print(m_age)"
      ],
      "metadata": {
        "colab": {
          "base_uri": "https://localhost:8080/"
        },
        "id": "vZEMKOKPbVN9",
        "outputId": "0f4116a9-f93d-4077-cea2-aa6566d6ab98"
      },
      "execution_count": null,
      "outputs": [
        {
          "output_type": "stream",
          "name": "stdout",
          "text": [
            "i am 10 years old\n"
          ]
        }
      ]
    },
    {
      "cell_type": "code",
      "source": [
        "item_name=\"prodct A\"\n",
        "quantity=10\n",
        "price_each=99.9\n",
        "Notification=\"your order {} has confirmed at a price of {},and the quantity of {},were placed successfully!\"\n",
        "print(Notification.format(item_name,price_each*quantity,quantity))"
      ],
      "metadata": {
        "colab": {
          "base_uri": "https://localhost:8080/"
        },
        "id": "Wx_TPZ0r8POZ",
        "outputId": "3b86f0cb-43da-4370-f8ec-5c360c95d969"
      },
      "execution_count": null,
      "outputs": [
        {
          "output_type": "stream",
          "name": "stdout",
          "text": [
            "your order prodct A has confirmed at a price of 999.0,and the quantity of 10,were placed successfully!\n"
          ]
        }
      ]
    },
    {
      "cell_type": "code",
      "source": [
        "item_name=\"prodct A\"\n",
        "quantity=10\n",
        "price_each=99.9\n",
        "Notification=\"your order {} has confirmed at a price of {},and the quantity of {},were placed successfully!\".format(item_name,price_each*quantity,quantity)\n",
        "print(Notification)"
      ],
      "metadata": {
        "colab": {
          "base_uri": "https://localhost:8080/"
        },
        "id": "B5I4wI4U8PIR",
        "outputId": "2f3bca91-b719-47fd-a5ad-5093eeab5bae"
      },
      "execution_count": null,
      "outputs": [
        {
          "output_type": "stream",
          "name": "stdout",
          "text": [
            "your order prodct A has confirmed at a price of 999.0,and the quantity of 10,were placed successfully!\n"
          ]
        }
      ]
    },
    {
      "cell_type": "markdown",
      "source": [
        "#Escape characters"
      ],
      "metadata": {
        "id": "f00I9GN_9WZJ"
      }
    },
    {
      "cell_type": "code",
      "source": [
        "#what are escape characters?\n",
        "\"\"\"if you want to print illegal characters in a string we have to use escape characters\n",
        "use backward slash\"/\" before of illegal characters next at the end also and also use  \"\\\" before illegal character\"\"\""
      ],
      "metadata": {
        "id": "q5x5q2iq8PDo"
      },
      "execution_count": null,
      "outputs": []
    },
    {
      "cell_type": "code",
      "source": [
        "a=\"Dwayn\\\"The Rock\\\" Johnson.\"\n",
        "print(a)"
      ],
      "metadata": {
        "colab": {
          "base_uri": "https://localhost:8080/"
        },
        "id": "lssDt5sr8O7H",
        "outputId": "5ef9f74c-4b09-4f65-dd8f-f84e203644be"
      },
      "execution_count": null,
      "outputs": [
        {
          "output_type": "stream",
          "name": "stdout",
          "text": [
            "Dwayn\"The Rock\" Johnson.\n"
          ]
        }
      ]
    },
    {
      "cell_type": "markdown",
      "source": [
        "#Loops"
      ],
      "metadata": {
        "id": "g89YrMbrBfRB"
      }
    },
    {
      "cell_type": "code",
      "source": [
        "#why we use loops?\n",
        "\"\"\"to avoid duplictae codes\"\"\"\n",
        "\n",
        "#how many types of codes we are having in python?\n",
        "\"\"\"1. WET Code--->W(write) E(Everything) T(Twice)\n",
        "   2. DRY Code--->D(Dont) R(Repeat) Y(Yourself)\"\"\""
      ],
      "metadata": {
        "id": "n0ZoNEY78O30"
      },
      "execution_count": null,
      "outputs": []
    },
    {
      "cell_type": "code",
      "source": [
        "#what are all the loops do we have in python?\n",
        "\"\"\"1.for loop\n",
        "2.while loop\"\"\""
      ],
      "metadata": {
        "id": "hNuCQRmc8O1O"
      },
      "execution_count": null,
      "outputs": []
    },
    {
      "cell_type": "code",
      "source": [
        "#1.while loop:\n",
        "\"\"\"it runs set of instructions until the condition is true\"\"\""
      ],
      "metadata": {
        "id": "2z875N5Y8Oya"
      },
      "execution_count": null,
      "outputs": []
    },
    {
      "cell_type": "code",
      "source": [
        "target=5\n",
        "initial=0\n",
        "while initial<target:\n",
        "  print(\"go up\")\n",
        "  print(\"go down\")\n",
        "  print(\"==============rep completed==============\")\n",
        "  initial = initial+1"
      ],
      "metadata": {
        "colab": {
          "base_uri": "https://localhost:8080/"
        },
        "id": "vPMWdyWMDQwU",
        "outputId": "e913c83a-502a-4349-dc38-35ca2d248151"
      },
      "execution_count": null,
      "outputs": [
        {
          "output_type": "stream",
          "name": "stdout",
          "text": [
            "go up\n",
            "go down\n",
            "==============rep completed==============\n",
            "go up\n",
            "go down\n",
            "==============rep completed==============\n",
            "go up\n",
            "go down\n",
            "==============rep completed==============\n",
            "go up\n",
            "go down\n",
            "==============rep completed==============\n",
            "go up\n",
            "go down\n",
            "==============rep completed==============\n"
          ]
        }
      ]
    },
    {
      "cell_type": "code",
      "source": [
        "#write a program to run a lift?\n",
        "target=int(input(\"enter the floor num: \"))\n",
        "ground_floor=0\n",
        "while ground_floor<=target:\n",
        "  print(f'you have reached {ground_floor} floor')\n",
        "  ground_floor=ground_floor+1"
      ],
      "metadata": {
        "colab": {
          "base_uri": "https://localhost:8080/"
        },
        "id": "RGZKtfGIDQs3",
        "outputId": "01baf83e-fe50-4222-b0ac-d21d63327dc1"
      },
      "execution_count": null,
      "outputs": [
        {
          "output_type": "stream",
          "name": "stdout",
          "text": [
            "enter the floor num: 4\n",
            "you have reached 0 floor\n",
            "you have reached 1 floor\n",
            "you have reached 2 floor\n",
            "you have reached 3 floor\n",
            "you have reached 4 floor\n"
          ]
        }
      ]
    },
    {
      "cell_type": "code",
      "source": [
        "#wriet a pgm to print 10 digits using while loop in seperate lines?\n",
        "a=0\n",
        "while a<=10:\n",
        "  print(a)\n",
        "  a+=1"
      ],
      "metadata": {
        "colab": {
          "base_uri": "https://localhost:8080/"
        },
        "id": "igYbfbQJDQqD",
        "outputId": "3b91e91f-4fcc-4b72-de28-575c9203677d"
      },
      "execution_count": null,
      "outputs": [
        {
          "output_type": "stream",
          "name": "stdout",
          "text": [
            "0\n",
            "1\n",
            "2\n",
            "3\n",
            "4\n",
            "5\n",
            "6\n",
            "7\n",
            "8\n",
            "9\n",
            "10\n"
          ]
        }
      ]
    },
    {
      "cell_type": "code",
      "source": [
        "#write a pgm to print odd digits using while loop in seprate lines?\n",
        "a=int(input(\"enter the number\"))\n",
        "b=1\n",
        "while b<=a:\n",
        "  print(b)\n",
        "  b+=2"
      ],
      "metadata": {
        "colab": {
          "base_uri": "https://localhost:8080/"
        },
        "id": "ZY2iUxodDQm3",
        "outputId": "96c22b4b-7cd0-4566-ac64-258d2fe4bff2"
      },
      "execution_count": null,
      "outputs": [
        {
          "output_type": "stream",
          "name": "stdout",
          "text": [
            "enter the number10\n",
            "1\n",
            "3\n",
            "5\n",
            "7\n",
            "9\n"
          ]
        }
      ]
    },
    {
      "cell_type": "code",
      "source": [
        "Nums=[10,20,30,40,50]\n",
        "#output=[20,40,60,80,100]\n",
        "#write pgm to print multiplies of 2\n",
        "i=0\n",
        "while i<len(Nums):\n",
        "  print(i*2)\n",
        "  i+=1"
      ],
      "metadata": {
        "colab": {
          "base_uri": "https://localhost:8080/"
        },
        "id": "kTQDdO_mDQkb",
        "outputId": "68dc9276-639d-40c2-8f80-8f0d4cac8013"
      },
      "execution_count": null,
      "outputs": [
        {
          "output_type": "stream",
          "name": "stdout",
          "text": [
            "0\n",
            "2\n",
            "4\n",
            "6\n",
            "8\n"
          ]
        }
      ]
    },
    {
      "cell_type": "code",
      "source": [
        "#2.for loop:\n",
        "\"\"\"it runs a set of instructions for each and every element in a collection.\"\"\""
      ],
      "metadata": {
        "id": "FpKXobeuDQhp"
      },
      "execution_count": null,
      "outputs": []
    },
    {
      "cell_type": "code",
      "source": [
        "Nums=[10,20,30,40,50]\n",
        "for i in Nums:\n",
        "  print(i*2)"
      ],
      "metadata": {
        "colab": {
          "base_uri": "https://localhost:8080/"
        },
        "id": "wzez40psDQei",
        "outputId": "6377a312-696c-459e-a328-20d1a85b3750"
      },
      "execution_count": null,
      "outputs": [
        {
          "output_type": "stream",
          "name": "stdout",
          "text": [
            "20\n",
            "40\n",
            "60\n",
            "80\n",
            "100\n"
          ]
        }
      ]
    },
    {
      "cell_type": "code",
      "source": [
        "#print \"hello world\" in seperate lines by using loops?\n",
        "s=\"hello world\"\n",
        "for i in s:\n",
        "  print(i)\n"
      ],
      "metadata": {
        "colab": {
          "base_uri": "https://localhost:8080/"
        },
        "id": "AEDpV3UFDQcD",
        "outputId": "3bec7c08-2a9b-4b6c-9dc4-04ebe1bcdd9a"
      },
      "execution_count": null,
      "outputs": [
        {
          "output_type": "stream",
          "name": "stdout",
          "text": [
            "h\n",
            "e\n",
            "l\n",
            "l\n",
            "o\n",
            " \n",
            "w\n",
            "o\n",
            "r\n",
            "l\n",
            "d\n"
          ]
        }
      ]
    },
    {
      "cell_type": "code",
      "source": [
        "#does loops can run through each and every element in a collection.--> TRUE"
      ],
      "metadata": {
        "id": "DZAi2qthDQZX"
      },
      "execution_count": null,
      "outputs": []
    },
    {
      "cell_type": "code",
      "source": [
        "#write a program to print \"hello world\" upto length of string?\n",
        "#If length is 11 print 11 times next if length is 15 then print 15 times\n",
        "s=\"hello world\"\n",
        "for i in s:\n",
        "  print(s)"
      ],
      "metadata": {
        "colab": {
          "base_uri": "https://localhost:8080/"
        },
        "id": "74TRDuroDQWs",
        "outputId": "48bef610-e2da-4ae2-8a1c-38b345aa95ac"
      },
      "execution_count": null,
      "outputs": [
        {
          "output_type": "stream",
          "name": "stdout",
          "text": [
            "hello world\n",
            "hello world\n",
            "hello world\n",
            "hello world\n",
            "hello world\n",
            "hello world\n",
            "hello world\n",
            "hello world\n",
            "hello world\n",
            "hello world\n",
            "hello world\n"
          ]
        }
      ]
    },
    {
      "cell_type": "markdown",
      "source": [
        "#Break statement"
      ],
      "metadata": {
        "id": "xPbXx0ATHjyg"
      }
    },
    {
      "cell_type": "code",
      "source": [
        "\"\"\"it terminates or breaks the loops once the condition is satisfied\"\"\"\n",
        "nums=[10,20,30,40,50]\n",
        "for i in nums:\n",
        "  print(i)\n",
        "  if i==30:\n",
        "    break"
      ],
      "metadata": {
        "colab": {
          "base_uri": "https://localhost:8080/"
        },
        "id": "XnT0f3UkHgzX",
        "outputId": "db254b0a-571d-45f0-d769-1acda242843f"
      },
      "execution_count": null,
      "outputs": [
        {
          "output_type": "stream",
          "name": "stdout",
          "text": [
            "10\n",
            "20\n",
            "30\n"
          ]
        }
      ]
    },
    {
      "cell_type": "code",
      "source": [
        "#break the loop when the iteration reaches to 30\n",
        "nums=[10,20,30,40,50]\n",
        "for i in nums:\n",
        "  if i==30:\n",
        "    break\n",
        "  print(i)"
      ],
      "metadata": {
        "colab": {
          "base_uri": "https://localhost:8080/"
        },
        "id": "3rAKfNPqHgv_",
        "outputId": "f0bed7ee-85fa-4bb4-918d-1cd2bd0c3252"
      },
      "execution_count": null,
      "outputs": [
        {
          "output_type": "stream",
          "name": "stdout",
          "text": [
            "10\n",
            "20\n"
          ]
        }
      ]
    },
    {
      "cell_type": "code",
      "source": [
        "#if i use print() before break statement, why i am getting considered coondition vallue?\n",
        "\"\"\"python is an interpreted language means it will execute the code line by line,\n",
        "when i write print() before break. before executing condition the iterationwill reach to\n",
        "specific condition value so we can get that specific value alond with the iterated values\n",
        "in the output\"\"\""
      ],
      "metadata": {
        "id": "688HMMQNHgrh"
      },
      "execution_count": null,
      "outputs": []
    },
    {
      "cell_type": "markdown",
      "source": [
        "#continue"
      ],
      "metadata": {
        "id": "X13wsp6mJGdU"
      }
    },
    {
      "cell_type": "code",
      "source": [
        "#continue:\n",
        "\"\"\"it skips the current iteration and continues with the next iteration\"\"\"\n",
        "nums=[10,20,30,40,50]\n",
        "for i in nums:\n",
        "  if i==30:\n",
        "    continue\n",
        "  print(i)"
      ],
      "metadata": {
        "colab": {
          "base_uri": "https://localhost:8080/"
        },
        "id": "jgrU4TBmHgow",
        "outputId": "0b7b85dd-26cf-4a55-8750-2f4c76231dda"
      },
      "execution_count": null,
      "outputs": [
        {
          "output_type": "stream",
          "name": "stdout",
          "text": [
            "10\n",
            "20\n",
            "40\n",
            "50\n"
          ]
        }
      ]
    },
    {
      "cell_type": "code",
      "source": [
        "#can we do multiple continues\n",
        "nums=[10,20,30,40,50,60,70]\n",
        "for i in nums:\n",
        "  if i in(30,40,60):\n",
        "    continue\n",
        "  print(i)"
      ],
      "metadata": {
        "colab": {
          "base_uri": "https://localhost:8080/"
        },
        "id": "oS0CKYePHglo",
        "outputId": "ebccf763-4a11-4454-ee08-a94bf586a47a"
      },
      "execution_count": null,
      "outputs": [
        {
          "output_type": "stream",
          "name": "stdout",
          "text": [
            "10\n",
            "20\n",
            "50\n",
            "70\n"
          ]
        }
      ]
    },
    {
      "cell_type": "markdown",
      "source": [
        "#range"
      ],
      "metadata": {
        "id": "BKij_juIkfbf"
      }
    },
    {
      "cell_type": "code",
      "source": [
        "#write a program to create a range of numbers?\n",
        "'''range(end)'''\n",
        "for i in range(11):\n",
        "  print(i)"
      ],
      "metadata": {
        "colab": {
          "base_uri": "https://localhost:8080/"
        },
        "id": "wQRyNUbDjNyc",
        "outputId": "15c96925-3e92-4595-febe-9fbbb0d0ab21"
      },
      "execution_count": null,
      "outputs": [
        {
          "output_type": "stream",
          "name": "stdout",
          "text": [
            "0\n",
            "1\n",
            "2\n",
            "3\n",
            "4\n",
            "5\n",
            "6\n",
            "7\n",
            "8\n",
            "9\n",
            "10\n"
          ]
        }
      ]
    },
    {
      "cell_type": "code",
      "source": [
        "#print \"hello world\" 6 times:\n",
        "for i in range(6):\n",
        "  print(\"hello world\")"
      ],
      "metadata": {
        "colab": {
          "base_uri": "https://localhost:8080/"
        },
        "id": "T3OuWb06Hgik",
        "outputId": "bcae4df7-6871-42ad-e244-70b2825ac5f5"
      },
      "execution_count": null,
      "outputs": [
        {
          "output_type": "stream",
          "name": "stdout",
          "text": [
            "hello world\n",
            "hello world\n",
            "hello world\n",
            "hello world\n",
            "hello world\n",
            "hello world\n"
          ]
        }
      ]
    },
    {
      "cell_type": "code",
      "source": [
        "#range(start:end)\n",
        "#write a program to print rane of values from 10 to 40\n",
        "for i in range(10,41):\n",
        "  print(i)"
      ],
      "metadata": {
        "colab": {
          "base_uri": "https://localhost:8080/"
        },
        "collapsed": true,
        "id": "vm4Sbel1Hgf6",
        "outputId": "a42e2e9c-a336-4288-98a3-453174b6886f"
      },
      "execution_count": null,
      "outputs": [
        {
          "output_type": "stream",
          "name": "stdout",
          "text": [
            "10\n",
            "11\n",
            "12\n",
            "13\n",
            "14\n",
            "15\n",
            "16\n",
            "17\n",
            "18\n",
            "19\n",
            "20\n",
            "21\n",
            "22\n",
            "23\n",
            "24\n",
            "25\n",
            "26\n",
            "27\n",
            "28\n",
            "29\n",
            "30\n",
            "31\n",
            "32\n",
            "33\n",
            "34\n",
            "35\n",
            "36\n",
            "37\n",
            "38\n",
            "39\n",
            "40\n"
          ]
        }
      ]
    },
    {
      "cell_type": "code",
      "source": [
        "#write a program to print even numbers from 1 to 20\n",
        "'''range(strat,end,stop)'''\n",
        "for i in range(0,21,2):\n",
        "  print(i)"
      ],
      "metadata": {
        "colab": {
          "base_uri": "https://localhost:8080/"
        },
        "id": "ig8abzT-HgdO",
        "outputId": "54c46e57-bf64-42cb-abaa-2a99ea9f20f8"
      },
      "execution_count": null,
      "outputs": [
        {
          "output_type": "stream",
          "name": "stdout",
          "text": [
            "0\n",
            "2\n",
            "4\n",
            "6\n",
            "8\n",
            "10\n",
            "12\n",
            "14\n",
            "16\n",
            "18\n",
            "20\n"
          ]
        }
      ]
    },
    {
      "cell_type": "markdown",
      "source": [
        "#conditional statements"
      ],
      "metadata": {
        "id": "VAnIKgSwld2-"
      }
    },
    {
      "cell_type": "code",
      "source": [
        "#what is comparision opearors and whta is rotational operators?\n",
        "'''both are same'''\n",
        "#1.equals to --->==\n",
        "#2.not equals to--->!=\n",
        "#3.greater than--->  >\n",
        "#4.lesser than-->  <\n",
        "#5.greater than equals to ---> >=\n",
        "#6.less than equal to-->  <="
      ],
      "metadata": {
        "id": "7tJk5vBdHgad"
      },
      "execution_count": null,
      "outputs": []
    },
    {
      "cell_type": "code",
      "source": [
        "print(1==1)\n",
        "print(1!=1)\n",
        "print(1>1)\n",
        "print(1<1)\n",
        "print(1>=1)\n",
        "print(1<=1)"
      ],
      "metadata": {
        "colab": {
          "base_uri": "https://localhost:8080/"
        },
        "id": "EKR1gtSlHgYE",
        "outputId": "08d9eee6-6107-4b13-c39f-73ac0c963e8a"
      },
      "execution_count": null,
      "outputs": [
        {
          "output_type": "stream",
          "name": "stdout",
          "text": [
            "True\n",
            "False\n",
            "False\n",
            "False\n",
            "True\n",
            "True\n"
          ]
        }
      ]
    },
    {
      "cell_type": "code",
      "source": [
        "#if--->elif--->else"
      ],
      "metadata": {
        "id": "ag8MocVPHgVK"
      },
      "execution_count": null,
      "outputs": []
    },
    {
      "cell_type": "code",
      "source": [
        "#print a number whether it is +ve or -ve or zero\n",
        "number = int(input(\"enter the number: \"))\n",
        "if number > 0:\n",
        "  print(\"+ve\")\n",
        "elif number == 0:\n",
        "  print(\"neutral\")\n",
        "else:\n",
        "  print(\"-ve\")"
      ],
      "metadata": {
        "colab": {
          "base_uri": "https://localhost:8080/"
        },
        "id": "2vndp5MgHgSa",
        "outputId": "f240335f-0c25-4766-8c53-2535d379e22e"
      },
      "execution_count": null,
      "outputs": [
        {
          "output_type": "stream",
          "name": "stdout",
          "text": [
            "enter the number: 12\n",
            "+ve\n"
          ]
        }
      ]
    },
    {
      "cell_type": "code",
      "source": [
        "#Logical operators\n",
        "#not:- it reverse your output\n",
        "print(not(10==10))\n",
        "print(not(10!=10))"
      ],
      "metadata": {
        "colab": {
          "base_uri": "https://localhost:8080/"
        },
        "id": "li1ozFoumPeM",
        "outputId": "612fc19a-c13a-4bde-ff4b-8e6c581af43e"
      },
      "execution_count": null,
      "outputs": [
        {
          "output_type": "stream",
          "name": "stdout",
          "text": [
            "False\n",
            "True\n"
          ]
        }
      ]
    },
    {
      "cell_type": "code",
      "source": [
        "a=10\n",
        "b=35\n",
        "c=90\n",
        "#check the condition whether a is less than b and c\n",
        "#b is less than c\n",
        "if a<b and a<c and b<c:\n",
        "  print(\"all conditions satisfied\")\n",
        "else:\n",
        "  print(\"not satisfied\")"
      ],
      "metadata": {
        "colab": {
          "base_uri": "https://localhost:8080/"
        },
        "id": "EzOgHd5HmPa2",
        "outputId": "79ac2674-bdfb-4eb1-f50e-d1d28607e9db"
      },
      "execution_count": null,
      "outputs": [
        {
          "output_type": "stream",
          "name": "stdout",
          "text": [
            "all conditions satisfied\n"
          ]
        }
      ]
    },
    {
      "cell_type": "markdown",
      "source": [
        "#Collections"
      ],
      "metadata": {
        "id": "yQP87Kwfmx8i"
      }
    },
    {
      "cell_type": "markdown",
      "source": [
        "**Collections**\n",
        "collection are also called as iterables"
      ],
      "metadata": {
        "id": "x4u1ANbLRXaU"
      }
    },
    {
      "cell_type": "code",
      "source": [
        "#4 types of collection/iterables in python\n",
        "'''1.list\n",
        "2.tuple\n",
        "3.set\n",
        "4.dictionary'''"
      ],
      "metadata": {
        "id": "6-ZfNaoEnHhc"
      },
      "execution_count": null,
      "outputs": []
    },
    {
      "cell_type": "markdown",
      "source": [
        "#Lists"
      ],
      "metadata": {
        "id": "3ArlyRhfpj-D"
      }
    },
    {
      "cell_type": "code",
      "source": [
        "#1.List:---> [] each elemnt is seperated with comma(,)\n",
        "#ordered,changeable(mutable) and allows duplicates"
      ],
      "metadata": {
        "id": "r0HtZ-vtnHd2"
      },
      "execution_count": null,
      "outputs": []
    },
    {
      "cell_type": "code",
      "source": [
        "#it allows duplicates\n",
        "l1 = [\"Apple\",\"Banana\",\"cherries\",\"kiwi\",\"watermelon\",\"lemon\",\"ornage\",\"ornage\",\"Apple\"]\n",
        "print(l1)\n",
        "print(type(l1))"
      ],
      "metadata": {
        "id": "pQ-41tWOnHaF"
      },
      "execution_count": null,
      "outputs": []
    },
    {
      "cell_type": "code",
      "source": [
        "#write a program and prove that list can allow duplicates?"
      ],
      "metadata": {
        "id": "u3ysQkg5nHXE"
      },
      "execution_count": null,
      "outputs": []
    },
    {
      "cell_type": "code",
      "source": [
        "#list is ordered:\n",
        "'''the elemenyts or vaues in the list is having a specific index position number'''\n",
        "'''based on this index position number we access the elements'''"
      ],
      "metadata": {
        "id": "lQtZEZDPnHUa"
      },
      "execution_count": null,
      "outputs": []
    },
    {
      "cell_type": "code",
      "source": [
        "#how can we access the data in list?\n",
        "'''we can access the data inlist using index position numbers.'''"
      ],
      "metadata": {
        "id": "LlXPmrYAnHRZ"
      },
      "execution_count": null,
      "outputs": []
    },
    {
      "cell_type": "code",
      "source": [
        "#length of the list\n",
        "'''use len() method to find the length of the list'''\n",
        "\n",
        "l2 = [\"Apple\",\"Banana\",\"cherries\",\"kiwi\",\"watermelon\",\"lemon\",\"ornage\"]\n",
        "print(len(l2))"
      ],
      "metadata": {
        "colab": {
          "base_uri": "https://localhost:8080/"
        },
        "id": "-cBvvGvRnHOo",
        "outputId": "23935323-2a70-439c-889f-95142848fedd"
      },
      "execution_count": null,
      "outputs": [
        {
          "output_type": "stream",
          "name": "stdout",
          "text": [
            "7\n"
          ]
        }
      ]
    },
    {
      "cell_type": "code",
      "source": [
        "#print or access apple from the above list\n",
        "print(l2[0])\n",
        "\n",
        "#print or access apple from the above list\n",
        "print(l2[4])"
      ],
      "metadata": {
        "colab": {
          "base_uri": "https://localhost:8080/"
        },
        "id": "2idoYT-3nHME",
        "outputId": "9e393ba2-670e-402c-e2cf-90d662194412"
      },
      "execution_count": null,
      "outputs": [
        {
          "output_type": "stream",
          "name": "stdout",
          "text": [
            "Apple\n",
            "watermelon\n"
          ]
        }
      ]
    },
    {
      "cell_type": "code",
      "source": [
        "#print a range of items \"cherries\",\"kiwi\",\"watermelon\",\"lemon\"?\n",
        "'''use slicing operator'''#[start:end]\n",
        "print(l2[2:6])"
      ],
      "metadata": {
        "id": "liK0m0gPnHKC"
      },
      "execution_count": null,
      "outputs": []
    },
    {
      "cell_type": "code",
      "source": [
        "#use -ve indexing and print the range of items\n",
        "print(l2[-2])"
      ],
      "metadata": {
        "colab": {
          "base_uri": "https://localhost:8080/"
        },
        "id": "V26BoGSvnHGb",
        "outputId": "3c74018f-94fa-4539-fc59-b1813e0597bc"
      },
      "execution_count": null,
      "outputs": [
        {
          "output_type": "stream",
          "name": "stdout",
          "text": [
            "[]\n"
          ]
        }
      ]
    },
    {
      "cell_type": "code",
      "source": [
        "#watermelon\",\"kiwi\",\"cherries\"\n",
        "l2 = [\"Apple\",\"Banana\",\"cherries\",\"kiwi\",\"watermelon\",\"lemon\",\"ornage\"]\n",
        "print(l2[-3:-6:-1])"
      ],
      "metadata": {
        "id": "JhG3kn8hnHDq"
      },
      "execution_count": null,
      "outputs": []
    },
    {
      "cell_type": "code",
      "source": [
        "#print the list of even position elements?\n",
        "print(l2[::2])"
      ],
      "metadata": {
        "id": "Mr2Ckx_nnHBD"
      },
      "execution_count": null,
      "outputs": []
    },
    {
      "cell_type": "code",
      "source": [
        "#reverse the entire list?\n",
        "print(l2[::-1])"
      ],
      "metadata": {
        "id": "Psk2ANg9nG-V"
      },
      "execution_count": null,
      "outputs": []
    },
    {
      "cell_type": "code",
      "source": [
        "#can we convert a list in to string.\n",
        "#write a program to convert the list into string.\n",
        "l3= ['Apple', 'cherries', 'watermelon', 'ornage']\n",
        "#using loops\n",
        "for x in l3:\n",
        "  print(x, end= \" \")  #end:- when you donot need output in each line then you use \"end=\"\"\n",
        "  #print(type(x))\n"
      ],
      "metadata": {
        "colab": {
          "base_uri": "https://localhost:8080/"
        },
        "id": "RZF2t3PlpIA1",
        "outputId": "9ec0bd51-6784-41f0-dd26-b089e3c5e435"
      },
      "execution_count": null,
      "outputs": [
        {
          "output_type": "stream",
          "name": "stdout",
          "text": [
            "Apple cherries watermelon ornage "
          ]
        }
      ]
    },
    {
      "cell_type": "code",
      "source": [
        "#list mutable or changable:-\n",
        "#How can you define a collection is mutable?\n",
        "#it can be defined in three ways\n",
        "#change-->replace--> A-->B\n",
        "#ADD the items in to the list\n",
        "# deleting the items in the list"
      ],
      "metadata": {
        "id": "nPbIlL5qpH9i"
      },
      "execution_count": null,
      "outputs": []
    },
    {
      "cell_type": "code",
      "source": [
        "#change-->replace--> items in list -->replacing in list can be done with the help of index position numbers.\n",
        "l4 = ['ornage', 'lemon', 'watermelon', 'kiwi', 'cherries', 'Banana', 'Apple']\n",
        "l4[3] = \"starwberry\"\n",
        "print(l4)"
      ],
      "metadata": {
        "id": "BuS820dOpH67"
      },
      "execution_count": null,
      "outputs": []
    },
    {
      "cell_type": "code",
      "source": [
        "#if i want to replace the range of items in the list\n",
        "l4[0:3] = \"mango\",\"pineapple\",\"grapes\"\n",
        "print(l4)"
      ],
      "metadata": {
        "colab": {
          "base_uri": "https://localhost:8080/",
          "height": 182
        },
        "collapsed": true,
        "id": "CCHOKRsIpH4P",
        "outputId": "5dafb404-09c8-4e1b-8d00-45875d322ace"
      },
      "execution_count": null,
      "outputs": [
        {
          "output_type": "error",
          "ename": "NameError",
          "evalue": "name 'l4' is not defined",
          "traceback": [
            "\u001b[0;31m---------------------------------------------------------------------------\u001b[0m",
            "\u001b[0;31mNameError\u001b[0m                                 Traceback (most recent call last)",
            "\u001b[0;32m<ipython-input-23-b67d32599944>\u001b[0m in \u001b[0;36m<cell line: 2>\u001b[0;34m()\u001b[0m\n\u001b[1;32m      1\u001b[0m \u001b[0;31m#if i want to replace the range of items in the list\u001b[0m\u001b[0;34m\u001b[0m\u001b[0;34m\u001b[0m\u001b[0m\n\u001b[0;32m----> 2\u001b[0;31m \u001b[0ml4\u001b[0m\u001b[0;34m[\u001b[0m\u001b[0;36m0\u001b[0m\u001b[0;34m:\u001b[0m\u001b[0;36m3\u001b[0m\u001b[0;34m]\u001b[0m \u001b[0;34m=\u001b[0m \u001b[0;34m\"mango\"\u001b[0m\u001b[0;34m,\u001b[0m\u001b[0;34m\"pineapple\"\u001b[0m\u001b[0;34m,\u001b[0m\u001b[0;34m\"grapes\"\u001b[0m\u001b[0;34m\u001b[0m\u001b[0;34m\u001b[0m\u001b[0m\n\u001b[0m\u001b[1;32m      3\u001b[0m \u001b[0mprint\u001b[0m\u001b[0;34m(\u001b[0m\u001b[0ml4\u001b[0m\u001b[0;34m)\u001b[0m\u001b[0;34m\u001b[0m\u001b[0;34m\u001b[0m\u001b[0m\n",
            "\u001b[0;31mNameError\u001b[0m: name 'l4' is not defined"
          ]
        }
      ]
    },
    {
      "cell_type": "code",
      "source": [
        "l4[0:4] = \"cashew\", \"dry grapes\"   #it is accepetable inlist your replace index postion with items irrespective of number of position\n",
        "print(l4)"
      ],
      "metadata": {
        "id": "SaqQtvA8pH11"
      },
      "execution_count": null,
      "outputs": []
    },
    {
      "cell_type": "code",
      "source": [
        "#ADD the items in to the list\n",
        "#appen() by default it will add the items in the list in end position\n",
        "l5= ['Apple', 'cherries', 'watermelon', 'ornage']\n",
        "l5.append(\"muskmelon\")\n",
        "print(l5)"
      ],
      "metadata": {
        "id": "80EiNjU_pHw1"
      },
      "execution_count": null,
      "outputs": []
    },
    {
      "cell_type": "code",
      "source": [
        "#if i want to add the element in particular index position.\n",
        "#insert(index,'new item name')\n",
        "l5.insert(3,'lemon') #note you cannot insert multiple values into the list\n",
        "print(l5)"
      ],
      "metadata": {
        "id": "VddUURv6pHou"
      },
      "execution_count": null,
      "outputs": []
    },
    {
      "cell_type": "code",
      "source": [
        "#extend:\n",
        "l=[1,2,3,4]\n",
        "l2=[\"apple\",'cherry','lemon','watermelon''lemon','orange','muskmelon']\n",
        "l2.append(l)\n",
        "#here when you give the 1st collection name to another collection elements is going to add in 1st collection\n",
        "print(l2)\n",
        "print(len(l2))"
      ],
      "metadata": {
        "colab": {
          "base_uri": "https://localhost:8080/"
        },
        "id": "G6R0nL3yRjyn",
        "outputId": "f17c44ae-3ff7-493e-d964-e0f1958a3f60"
      },
      "execution_count": null,
      "outputs": [
        {
          "output_type": "stream",
          "name": "stdout",
          "text": [
            "['apple', 'cherry', 'lemon', 'watermelonlemon', 'orange', 'muskmelon', [1, 2, 3, 4]]\n",
            "7\n"
          ]
        }
      ]
    },
    {
      "cell_type": "code",
      "source": [
        "l=[1,2,3,4]\n",
        "l2=[\"apple\",'cherry','lemon','watermelon''lemon','orange','muskmelon']\n",
        "l2.extend(l)\n",
        "print(l2)"
      ],
      "metadata": {
        "colab": {
          "base_uri": "https://localhost:8080/"
        },
        "id": "XiBi1HEmTlPO",
        "outputId": "621c03b5-cd9b-43ae-d64e-dcadffc13535"
      },
      "execution_count": null,
      "outputs": [
        {
          "output_type": "stream",
          "name": "stdout",
          "text": [
            "['apple', 'cherry', 'lemon', 'watermelonlemon', 'orange', 'muskmelon', 1, 2, 3, 4]\n"
          ]
        }
      ]
    },
    {
      "cell_type": "code",
      "source": [
        "l3=['Apple','cherries','lemon','lemon']\n",
        "l4=[10,20]\n",
        "#write a program to add the elements to l3 at 2nnd index position\n",
        "l3.insert(2,l4)\n",
        "print(l3)"
      ],
      "metadata": {
        "colab": {
          "base_uri": "https://localhost:8080/"
        },
        "id": "2zDwBmlOUXAI",
        "outputId": "2f954359-7deb-4983-e9a3-74f85d77a177"
      },
      "execution_count": null,
      "outputs": [
        {
          "output_type": "stream",
          "name": "stdout",
          "text": [
            "['Apple', 'cherries', [10, 20], 'lemon', 'lemon']\n"
          ]
        }
      ]
    },
    {
      "cell_type": "markdown",
      "source": [
        "**delete or remove**"
      ],
      "metadata": {
        "id": "N90lxYu3Vd5h"
      }
    },
    {
      "cell_type": "code",
      "source": [
        "#remove method\n",
        "l5=['Apple', 'cherries', [10, 20], 'lemon', 'lemon']\n",
        "l5.remove(\"cherries\")\n",
        "print(l5)"
      ],
      "metadata": {
        "colab": {
          "base_uri": "https://localhost:8080/"
        },
        "id": "WyJkzkLyVk1L",
        "outputId": "a94f0b39-b0f0-4312-fb60-8289d254114d"
      },
      "execution_count": null,
      "outputs": [
        {
          "output_type": "stream",
          "name": "stdout",
          "text": [
            "['Apple', [10, 20], 'lemon', 'lemon']\n"
          ]
        }
      ]
    },
    {
      "cell_type": "code",
      "source": [
        "#pop\n",
        "l5=['Apple', [10, 20], 'lemon', 'lemon']\n",
        "l5.pop() # removes last element\n",
        "print(l5)\n",
        "# deleting element from a particular index position\n",
        "l5.pop(0)\n",
        "print(l5)"
      ],
      "metadata": {
        "colab": {
          "base_uri": "https://localhost:8080/"
        },
        "id": "OJy8_23DWY44",
        "outputId": "12b16fff-9f90-4dd2-e316-87f5d2080ade"
      },
      "execution_count": null,
      "outputs": [
        {
          "output_type": "stream",
          "name": "stdout",
          "text": [
            "['Apple', [10, 20], 'lemon']\n",
            "[[10, 20], 'lemon']\n"
          ]
        }
      ]
    },
    {
      "cell_type": "code",
      "source": [
        "#delete\n",
        "#used to delete a range of elements\n",
        "l6=[\"apple\",'cherry','lemon','watermelon''lemon','orange','muskmelon',[10,20,30,40]]\n",
        "#write a program to del ramge of items in above collection 2 to 5\n",
        "del l6[2:6]\n",
        "print(l6)\n",
        "del l6[2:5]\n",
        "print(l6)\n",
        "#to del entire list\n",
        "del l6\n",
        "#print(l6) # outputs name error i.e logical error\n",
        "#NOTE: \"update\"method is not present in the list collections, when executed it leads to Attribute errors."
      ],
      "metadata": {
        "colab": {
          "base_uri": "https://localhost:8080/"
        },
        "id": "rbhI9OvEXonQ",
        "outputId": "519bb9fa-9c06-46b2-d4c4-edee28fb0373"
      },
      "execution_count": null,
      "outputs": [
        {
          "output_type": "stream",
          "name": "stdout",
          "text": [
            "['apple', 'cherry', [10, 20, 30, 40]]\n",
            "['apple', 'cherry']\n"
          ]
        }
      ]
    },
    {
      "cell_type": "code",
      "source": [
        "#SORTING\n",
        "#Sorting can be done based on 'ascii' number\n",
        "#ascii- American standard code for information inter change\n",
        "#ord method is used for ascii values\n",
        "l2=['mango','Apple','pineapple','grapes','kiwi','watermelon']\n",
        "#inser 'apple' in index position 1\n",
        "l2.insert(1,\"apple\")\n",
        "print(l2)\n"
      ],
      "metadata": {
        "colab": {
          "base_uri": "https://localhost:8080/"
        },
        "id": "q3Vk_hEhai55",
        "outputId": "726c53b0-3118-40cf-d522-0e36766040f3"
      },
      "execution_count": null,
      "outputs": [
        {
          "output_type": "stream",
          "name": "stdout",
          "text": [
            "['mango', 'apple', 'Apple', 'pineapple', 'grapes', 'kiwi', 'watermelon']\n"
          ]
        }
      ]
    },
    {
      "cell_type": "code",
      "source": [
        "#to sort the list-bydefault it sorts in ascending order\n",
        "l3=['mango', 'apple', 'Apple', 'pineapple', 'grapes', 'kiwi', 'watermelon']\n",
        "l3.sort()\n",
        "print(l3)"
      ],
      "metadata": {
        "colab": {
          "base_uri": "https://localhost:8080/"
        },
        "id": "MsJyE_X8cTwl",
        "outputId": "a9f0d967-a8b7-4182-99f1-a1ddd92c77d7"
      },
      "execution_count": null,
      "outputs": [
        {
          "output_type": "stream",
          "name": "stdout",
          "text": [
            "['Apple', 'apple', 'grapes', 'kiwi', 'mango', 'pineapple', 'watermelon']\n"
          ]
        }
      ]
    },
    {
      "cell_type": "code",
      "source": [
        "# to sort in desc order\n",
        "l3=['mango', 'apple', 'Apple', 'pineapple', 'grapes', 'kiwi', 'watermelon']\n",
        "l3.sort(reverse=True)\n",
        "print(l3)"
      ],
      "metadata": {
        "colab": {
          "base_uri": "https://localhost:8080/"
        },
        "id": "9f1K0QbUcfkD",
        "outputId": "a11d6306-397c-4f05-a26e-4f4301231c42"
      },
      "execution_count": null,
      "outputs": [
        {
          "output_type": "stream",
          "name": "stdout",
          "text": [
            "['watermelon', 'pineapple', 'mango', 'kiwi', 'grapes', 'apple', 'Apple']\n"
          ]
        }
      ]
    },
    {
      "cell_type": "code",
      "source": [
        "#sort the above collection without case sensitivity\n",
        "l3=['mango', 'apple', 'Apple', 'pineapple', 'grapes', 'kiwi', 'watermelon']\n",
        "l3.sort(key=str.lower)\n",
        "print(l3)"
      ],
      "metadata": {
        "colab": {
          "base_uri": "https://localhost:8080/"
        },
        "id": "yPh8cnTtc0rr",
        "outputId": "41ad6cad-3cd8-4fbc-f494-4bab7c02fd6a"
      },
      "execution_count": null,
      "outputs": [
        {
          "output_type": "stream",
          "name": "stdout",
          "text": [
            "['apple', 'Apple', 'grapes', 'kiwi', 'mango', 'pineapple', 'watermelon']\n"
          ]
        }
      ]
    },
    {
      "cell_type": "code",
      "source": [
        "#swapping elemnts in list\n",
        "#swap mango and Apple\n",
        "l3=['mango', 'apple', 'Apple', 'pineapple', 'grapes', 'kiwi', 'watermelon']\n",
        "l3[0:3:2]='Apple','mango'\n",
        "print(l3)\n"
      ],
      "metadata": {
        "colab": {
          "base_uri": "https://localhost:8080/"
        },
        "id": "g2Ft6_E6eAeC",
        "outputId": "9bd216ea-b4d7-4e24-da8e-a4208afb1e37"
      },
      "execution_count": null,
      "outputs": [
        {
          "output_type": "stream",
          "name": "stdout",
          "text": [
            "['Apple', 'apple', 'mango', 'pineapple', 'grapes', 'kiwi', 'watermelon']\n"
          ]
        }
      ]
    },
    {
      "cell_type": "markdown",
      "source": [
        "#Tuple"
      ],
      "metadata": {
        "id": "WUufux93erTN"
      }
    },
    {
      "cell_type": "code",
      "source": [
        "#Tuple:--> represented with curly braces()\n",
        "#Tuples are ordered, immutable(changeable)\n",
        "#Tuples are faster than list bcoz tuples have allocated memory\n",
        "#Tuples are used to store valuable info\n",
        "#Allows duplicates\n",
        "t1=(\"Apple\",'Apple','cherry','lemon','watermelon''lemon','orange','muskmelon')\n",
        "print(t1)\n",
        "print(len(t1))\n",
        "print(type(t1))\n",
        "print(t1[0])"
      ],
      "metadata": {
        "colab": {
          "base_uri": "https://localhost:8080/"
        },
        "id": "J9EBu32bfvAD",
        "outputId": "923166fa-1b3a-40cb-f14a-222ba7bd3944"
      },
      "execution_count": null,
      "outputs": [
        {
          "output_type": "stream",
          "name": "stdout",
          "text": [
            "('Apple', 'Apple', 'cherry', 'lemon', 'watermelonlemon', 'orange', 'muskmelon')\n",
            "7\n",
            "<class 'tuple'>\n",
            "Apple\n"
          ]
        }
      ]
    },
    {
      "cell_type": "code",
      "source": [
        "# ordered: accessing or displaying the specific data by using index position numbers\n",
        "# each element in the tuple is having its index position number\n",
        "t1=('Apple','Apple','grape','kiwi','mango','pineapple','wattermelon')\n",
        "#to print elemts at a specific position mango\n",
        "print(t1[4])"
      ],
      "metadata": {
        "colab": {
          "base_uri": "https://localhost:8080/"
        },
        "id": "1_ifUcGfhCUk",
        "outputId": "e19aab3e-0988-4829-ac8b-d01ca058273b"
      },
      "execution_count": null,
      "outputs": [
        {
          "output_type": "stream",
          "name": "stdout",
          "text": [
            "mango\n"
          ]
        }
      ]
    },
    {
      "cell_type": "code",
      "source": [
        "#to print a range of elements we use slicing operator\n",
        "print(t1[3:6])"
      ],
      "metadata": {
        "colab": {
          "base_uri": "https://localhost:8080/"
        },
        "id": "s5TbOhHcij7n",
        "outputId": "3e3b4166-9cb2-4dc6-dd4b-66d150724ca9"
      },
      "execution_count": null,
      "outputs": [
        {
          "output_type": "stream",
          "name": "stdout",
          "text": [
            "('kiwi', 'mango', 'pineapple')\n"
          ]
        }
      ]
    },
    {
      "cell_type": "code",
      "source": [
        "# to print the even position elements in above collection\n",
        "print(t1[0::2])"
      ],
      "metadata": {
        "colab": {
          "base_uri": "https://localhost:8080/"
        },
        "id": "YUNJvFHEie_q",
        "outputId": "e8896048-3ccc-4430-ab13-506112d5d35c"
      },
      "execution_count": null,
      "outputs": [
        {
          "output_type": "stream",
          "name": "stdout",
          "text": [
            "('Apple', 'grape', 'mango', 'wattermelon')\n"
          ]
        }
      ]
    },
    {
      "cell_type": "code",
      "source": [
        "#to print add position elements from tuple\n",
        "t1=('Apple','Apple','grape','kiwi','mango','pineapple','wattermelon')\n",
        "print(t1[1::2])"
      ],
      "metadata": {
        "colab": {
          "base_uri": "https://localhost:8080/"
        },
        "id": "x75vFfUYiw4_",
        "outputId": "a5a6bf51-8e27-4df7-e595-e56d137ac0d4"
      },
      "execution_count": null,
      "outputs": [
        {
          "output_type": "stream",
          "name": "stdout",
          "text": [
            "('Apple', 'kiwi', 'pineapple')\n"
          ]
        }
      ]
    },
    {
      "cell_type": "code",
      "source": [
        "#reverse the tuple--- use negative step value in slicing\n",
        "t1=('Apple','Apple','grape','kiwi','mango','pineapple','wattermelon')\n",
        "print(t1[::-1])\n"
      ],
      "metadata": {
        "colab": {
          "base_uri": "https://localhost:8080/"
        },
        "id": "ix8MHcnmja42",
        "outputId": "54b9aff3-8170-47e7-dc04-937d11d3c142"
      },
      "execution_count": null,
      "outputs": [
        {
          "output_type": "stream",
          "name": "stdout",
          "text": [
            "('wattermelon', 'pineapple', 'mango', 'kiwi', 'grape', 'Apple', 'Apple')\n"
          ]
        }
      ]
    },
    {
      "cell_type": "code",
      "source": [
        "#immutable---unchangeable\n",
        "t1=('Apple','Apple','grape','kiwi','mango','pineapple','wattermelon')\n",
        "t1[1]='orange'\n",
        "print(t1)\n",
        "\n",
        "t1=('Apple','Apple','grape','kiwi','mango','pineapple','wattermelon')\n",
        "t1.pop()\n",
        "print(t1)\n",
        "\n",
        "#NOTE: Tuples are immutable , so it cannot add or delete elements from tuples."
      ],
      "metadata": {
        "id": "phy6zqgUlNu2",
        "colab": {
          "base_uri": "https://localhost:8080/",
          "height": 218
        },
        "outputId": "ccaf7c60-85dd-42ef-e4eb-6657c741f61c"
      },
      "execution_count": null,
      "outputs": [
        {
          "output_type": "error",
          "ename": "AttributeError",
          "evalue": "'tuple' object has no attribute 'pop'",
          "traceback": [
            "\u001b[0;31m---------------------------------------------------------------------------\u001b[0m",
            "\u001b[0;31mAttributeError\u001b[0m                            Traceback (most recent call last)",
            "\u001b[0;32m<ipython-input-2-57b5ab6af9c8>\u001b[0m in \u001b[0;36m<cell line: 7>\u001b[0;34m()\u001b[0m\n\u001b[1;32m      5\u001b[0m \u001b[0;34m\u001b[0m\u001b[0m\n\u001b[1;32m      6\u001b[0m \u001b[0mt1\u001b[0m\u001b[0;34m=\u001b[0m\u001b[0;34m(\u001b[0m\u001b[0;34m'Apple'\u001b[0m\u001b[0;34m,\u001b[0m\u001b[0;34m'Apple'\u001b[0m\u001b[0;34m,\u001b[0m\u001b[0;34m'grape'\u001b[0m\u001b[0;34m,\u001b[0m\u001b[0;34m'kiwi'\u001b[0m\u001b[0;34m,\u001b[0m\u001b[0;34m'mango'\u001b[0m\u001b[0;34m,\u001b[0m\u001b[0;34m'pineapple'\u001b[0m\u001b[0;34m,\u001b[0m\u001b[0;34m'wattermelon'\u001b[0m\u001b[0;34m)\u001b[0m\u001b[0;34m\u001b[0m\u001b[0;34m\u001b[0m\u001b[0m\n\u001b[0;32m----> 7\u001b[0;31m \u001b[0mt1\u001b[0m\u001b[0;34m.\u001b[0m\u001b[0mpop\u001b[0m\u001b[0;34m(\u001b[0m\u001b[0;34m)\u001b[0m\u001b[0;34m\u001b[0m\u001b[0;34m\u001b[0m\u001b[0m\n\u001b[0m\u001b[1;32m      8\u001b[0m \u001b[0mprint\u001b[0m\u001b[0;34m(\u001b[0m\u001b[0mt1\u001b[0m\u001b[0;34m)\u001b[0m\u001b[0;34m\u001b[0m\u001b[0;34m\u001b[0m\u001b[0m\n\u001b[1;32m      9\u001b[0m \u001b[0;34m\u001b[0m\u001b[0m\n",
            "\u001b[0;31mAttributeError\u001b[0m: 'tuple' object has no attribute 'pop'"
          ]
        }
      ]
    },
    {
      "cell_type": "code",
      "source": [
        "print(dir(t1))"
      ],
      "metadata": {
        "colab": {
          "base_uri": "https://localhost:8080/"
        },
        "id": "0NfJSl3BlgRz",
        "outputId": "169d3b0d-5f9e-443d-ce8d-0cc3a4c7e628"
      },
      "execution_count": null,
      "outputs": [
        {
          "output_type": "stream",
          "name": "stdout",
          "text": [
            "['__add__', '__class__', '__class_getitem__', '__contains__', '__delattr__', '__dir__', '__doc__', '__eq__', '__format__', '__ge__', '__getattribute__', '__getitem__', '__getnewargs__', '__gt__', '__hash__', '__init__', '__init_subclass__', '__iter__', '__le__', '__len__', '__lt__', '__mul__', '__ne__', '__new__', '__reduce__', '__reduce_ex__', '__repr__', '__rmul__', '__setattr__', '__sizeof__', '__str__', '__subclasshook__', 'count', 'index']\n"
          ]
        }
      ]
    },
    {
      "cell_type": "code",
      "source": [
        "#'count','index'\n",
        "#ti.count(value)\n",
        "#t1.index(value)\n",
        "#to use count method on tuple\n",
        "t1=('Apple','Apple','grape','kiwi','mango','pineapple','wattermelon')\n",
        "print(t1.count(\"Apple\"))\n",
        "print(t1.count(\"mango\"))"
      ],
      "metadata": {
        "colab": {
          "base_uri": "https://localhost:8080/"
        },
        "id": "o4fj6Srim2v4",
        "outputId": "22571791-e435-434b-abda-e361ea07f706"
      },
      "execution_count": null,
      "outputs": [
        {
          "output_type": "stream",
          "name": "stdout",
          "text": [
            "2\n",
            "1\n"
          ]
        }
      ]
    },
    {
      "cell_type": "code",
      "source": [
        "# to find the index value of particular element\n",
        "t1=('Apple','Apple','grape','kiwi','mango','pineapple','wattermelon')\n",
        "print(t1.index('grape'))\n",
        "print(t1.index('kiwi'))"
      ],
      "metadata": {
        "colab": {
          "base_uri": "https://localhost:8080/"
        },
        "id": "ZA9NF7fJnhl7",
        "outputId": "2219af69-922c-42a5-9987-7c3fc0dada6f"
      },
      "execution_count": null,
      "outputs": [
        {
          "output_type": "stream",
          "name": "stdout",
          "text": [
            "2\n",
            "3\n"
          ]
        }
      ]
    },
    {
      "cell_type": "code",
      "source": [
        "#create a list by using tuple\n",
        "t1=('Apple','Apple','grape','kiwi','mango','pineapple','wattermelon')\n",
        "print(t1)\n",
        "print(type(t1))\n",
        "l1=list(t1)  #converting tuple to list\n",
        "print(l1)\n",
        "print(type(l1))"
      ],
      "metadata": {
        "colab": {
          "base_uri": "https://localhost:8080/"
        },
        "id": "Vwc14OTXnSWl",
        "outputId": "435ab008-4971-4b2d-c16b-ba47c389650a"
      },
      "execution_count": null,
      "outputs": [
        {
          "output_type": "stream",
          "name": "stdout",
          "text": [
            "('Apple', 'Apple', 'grape', 'kiwi', 'mango', 'pineapple', 'wattermelon')\n",
            "<class 'tuple'>\n",
            "['Apple', 'Apple', 'grape', 'kiwi', 'mango', 'pineapple', 'wattermelon']\n",
            "<class 'list'>\n"
          ]
        }
      ]
    },
    {
      "cell_type": "code",
      "source": [
        "#diiference between list and tuples?\n",
        "\n",
        " #LIST--> ordered, mutable(adding elements: insert,append, extend; removes the elements; sorts the elements) , allows duplicates\n",
        " #TUPLES-->ordered, immutable(doesn't allow methods to update or pop the elements) allows duplicates\n",
        "           #tuples use count and index methods\n",
        "#why tuples are faster than lists?\n",
        "#Tuples have fixed menory allocation."
      ],
      "metadata": {
        "id": "xZICKoIioVrs"
      },
      "execution_count": null,
      "outputs": []
    },
    {
      "cell_type": "markdown",
      "source": [
        "#Set"
      ],
      "metadata": {
        "id": "eYuAD9Z0evT5"
      }
    },
    {
      "cell_type": "code",
      "source": [
        "#sets are declared using curly braces{}\n",
        "#unordered, immutable, it wont allow duplicates\n",
        "#allows only unique values\n",
        "s={1,1,2,3}\n",
        "print(s)"
      ],
      "metadata": {
        "colab": {
          "base_uri": "https://localhost:8080/"
        },
        "id": "kLfNdzkNEEdl",
        "outputId": "440d084b-276a-4074-95f3-1f4d3e1d0cfd"
      },
      "execution_count": null,
      "outputs": [
        {
          "output_type": "stream",
          "name": "stdout",
          "text": [
            "{1, 2, 3}\n"
          ]
        }
      ]
    },
    {
      "cell_type": "code",
      "source": [
        "#unordered-->we cannot access elements from sets bcoz it does not have index position numbers.\n",
        "print(s[1])"
      ],
      "metadata": {
        "colab": {
          "base_uri": "https://localhost:8080/",
          "height": 164
        },
        "id": "RltoxbX1GbHd",
        "outputId": "b50c80f1-e348-4216-c0ba-fb839261a399"
      },
      "execution_count": null,
      "outputs": [
        {
          "output_type": "error",
          "ename": "TypeError",
          "evalue": "'set' object is not subscriptable",
          "traceback": [
            "\u001b[0;31m---------------------------------------------------------------------------\u001b[0m",
            "\u001b[0;31mTypeError\u001b[0m                                 Traceback (most recent call last)",
            "\u001b[0;32m<ipython-input-2-b62465229a97>\u001b[0m in \u001b[0;36m<cell line: 2>\u001b[0;34m()\u001b[0m\n\u001b[1;32m      1\u001b[0m \u001b[0;31m#unordered-->we cannot access elements from sets bcoz it does not have index position numbers.\u001b[0m\u001b[0;34m\u001b[0m\u001b[0;34m\u001b[0m\u001b[0m\n\u001b[0;32m----> 2\u001b[0;31m \u001b[0mprint\u001b[0m\u001b[0;34m(\u001b[0m\u001b[0ms\u001b[0m\u001b[0;34m[\u001b[0m\u001b[0;36m1\u001b[0m\u001b[0;34m]\u001b[0m\u001b[0;34m)\u001b[0m\u001b[0;34m\u001b[0m\u001b[0;34m\u001b[0m\u001b[0m\n\u001b[0m",
            "\u001b[0;31mTypeError\u001b[0m: 'set' object is not subscriptable"
          ]
        }
      ]
    },
    {
      "cell_type": "code",
      "source": [
        "#sets are immutable-->IN setes we can add and delete the elements but we cannot replace the elements\n",
        "#Why we can't swap or replace or change elemnts in sets?\n",
        "#ans:As we don't have index positions in sets,we cannot replace or change elements in sets.\n",
        "#Where the elements in sets are stored?\n",
        "#ans: elements are stoed randomly in the sets."
      ],
      "metadata": {
        "id": "DMCPPkR5G1gG"
      },
      "execution_count": null,
      "outputs": []
    },
    {
      "cell_type": "code",
      "source": [
        "#Adding elemts in set:\n",
        "s={1,2,37,6}\n",
        "s.add(8)\n",
        "print(s)\n",
        "s.add(9)\n",
        "print(s)"
      ],
      "metadata": {
        "colab": {
          "base_uri": "https://localhost:8080/"
        },
        "id": "2JIxXnqgIMlm",
        "outputId": "866e0fd0-022c-4a9f-8854-457e7d50e956"
      },
      "execution_count": null,
      "outputs": [
        {
          "output_type": "stream",
          "name": "stdout",
          "text": [
            "{1, 2, 37, 6, 8}\n",
            "{1, 2, 37, 6, 8, 9}\n"
          ]
        }
      ]
    },
    {
      "cell_type": "code",
      "source": [
        "#To add multiple elements in the set we use\"UPDATE\" method\n",
        "s1={10,11,12}\n",
        "s.update(s1)\n",
        "print(s)"
      ],
      "metadata": {
        "colab": {
          "base_uri": "https://localhost:8080/"
        },
        "id": "e2PYv7N4MwZA",
        "outputId": "fc8a438c-7542-48b3-80dc-a1b9ba73fb38"
      },
      "execution_count": null,
      "outputs": [
        {
          "output_type": "stream",
          "name": "stdout",
          "text": [
            "{1, 2, 37, 6, 8, 9, 10, 11, 12}\n"
          ]
        }
      ]
    },
    {
      "cell_type": "code",
      "source": [
        "s.update(\"20\",\"30\",\"40\")\n",
        "print(s)"
      ],
      "metadata": {
        "colab": {
          "base_uri": "https://localhost:8080/"
        },
        "id": "0q7wldUdNH-R",
        "outputId": "bb6a1466-da89-4159-9030-15463633bd26"
      },
      "execution_count": null,
      "outputs": [
        {
          "output_type": "stream",
          "name": "stdout",
          "text": [
            "{1, 2, '2', '0', 37, 6, 8, 9, 10, 11, 12, '3', '4'}\n"
          ]
        }
      ]
    },
    {
      "cell_type": "code",
      "source": [
        "#remove elements from set\n",
        "s.remove(1)\n",
        "print(s)"
      ],
      "metadata": {
        "colab": {
          "base_uri": "https://localhost:8080/"
        },
        "id": "PWanRd2eN1uu",
        "outputId": "25d1393f-3e60-405b-e544-4227ce05c251"
      },
      "execution_count": null,
      "outputs": [
        {
          "output_type": "stream",
          "name": "stdout",
          "text": [
            "{2, '2', '0', 37, 6, 8, 9, 10, 11, 12, '3', '4'}\n"
          ]
        }
      ]
    },
    {
      "cell_type": "code",
      "source": [
        "\n",
        "s.remove('0')\n",
        "s.remove('2')\n",
        "s.remove('3')\n",
        "print(s)\n"
      ],
      "metadata": {
        "colab": {
          "base_uri": "https://localhost:8080/"
        },
        "id": "L482vNVGODKk",
        "outputId": "ae1c424f-2198-402d-bd3f-ef7c9108d034"
      },
      "execution_count": null,
      "outputs": [
        {
          "output_type": "stream",
          "name": "stdout",
          "text": [
            "{2, 37, 6, 8, 9, 10, 11, 12}\n"
          ]
        }
      ]
    },
    {
      "cell_type": "code",
      "source": [
        "#discard method:\n",
        "s.discard(8)\n",
        "print(s)"
      ],
      "metadata": {
        "colab": {
          "base_uri": "https://localhost:8080/"
        },
        "id": "HwjeqcjlOlo_",
        "outputId": "43d99553-5c7b-4637-bf27-31e854995d6a"
      },
      "execution_count": null,
      "outputs": [
        {
          "output_type": "stream",
          "name": "stdout",
          "text": [
            "{2, 37, 6, 9, 10, 11, 12}\n"
          ]
        }
      ]
    },
    {
      "cell_type": "code",
      "source": [
        "s.discard(3,2)\n",
        "#NOTE: discard method wont take multiple values to delete\n",
        "#discard() takes only one argument"
      ],
      "metadata": {
        "id": "Z7nxuejOOuPD"
      },
      "execution_count": null,
      "outputs": []
    },
    {
      "cell_type": "code",
      "source": [
        "#pop() method-->dleted the elements randomly\n",
        "s={34,56,21,45}\n",
        "s.pop()\n",
        "print(s)\n",
        "\n",
        "#Why we are not using pop() method in sets\n",
        "#Because it deletes the elements randomly"
      ],
      "metadata": {
        "colab": {
          "base_uri": "https://localhost:8080/"
        },
        "id": "26evj97cPArA",
        "outputId": "955ac712-72cf-4f48-c3c7-1827db6070e0"
      },
      "execution_count": null,
      "outputs": [
        {
          "output_type": "stream",
          "name": "stdout",
          "text": [
            "{34, 21, 45}\n"
          ]
        }
      ]
    },
    {
      "cell_type": "code",
      "source": [
        "#delete\n",
        "del(s)  # it deletes the entire set"
      ],
      "metadata": {
        "id": "pZIoEfopPd0J"
      },
      "execution_count": null,
      "outputs": []
    },
    {
      "cell_type": "code",
      "source": [
        "#Difference between discard() and remove()methods?\n",
        "s={1,2,3,4,6,7,'22','34','0','2'}\n",
        "s.discard(2)   #when we use discard method,if the item exists or not in the collection it won't thrpw any error while execution\n",
        "print(s)\n",
        "s.discard(2)\n",
        "print(s)"
      ],
      "metadata": {
        "colab": {
          "base_uri": "https://localhost:8080/"
        },
        "id": "SbWiFO2zPmj5",
        "outputId": "90323a81-9f22-469f-a787-71d5cb3e0f35"
      },
      "execution_count": null,
      "outputs": [
        {
          "output_type": "stream",
          "name": "stdout",
          "text": [
            "{'34', 1, 3, 4, '22', 6, 7, '0', '2'}\n",
            "{'34', 1, 3, 4, '22', 6, 7, '0', '2'}\n"
          ]
        }
      ]
    },
    {
      "cell_type": "code",
      "source": [
        "#execute matrix operation by using 2sets\n",
        "#2sets--union,intersection\n",
        "#union()\n",
        "s5={\"a\",\"b\",\"c\",\"d\"}\n",
        "s6={\"d\",\"e\",\"g\",\"h\"}\n",
        "s_add=s5.union(s6)\n",
        "print(s_add)"
      ],
      "metadata": {
        "colab": {
          "base_uri": "https://localhost:8080/"
        },
        "id": "6xe1QtZbQaYr",
        "outputId": "cc49efbb-8802-4400-e3e4-44397cc8c26d"
      },
      "execution_count": null,
      "outputs": [
        {
          "output_type": "stream",
          "name": "stdout",
          "text": [
            "{'b', 'g', 'c', 'e', 'a', 'd', 'h'}\n"
          ]
        }
      ]
    },
    {
      "cell_type": "markdown",
      "source": [],
      "metadata": {
        "id": "_Eplr0Nt00Mh"
      }
    },
    {
      "cell_type": "code",
      "source": [
        "#intersection()\n",
        "s_inter=s5.intersection(s6)\n",
        "print(s_inter)"
      ],
      "metadata": {
        "colab": {
          "base_uri": "https://localhost:8080/"
        },
        "id": "cMV9VYgARIIQ",
        "outputId": "1aa073b6-c495-4199-dab9-18234add5fd9"
      },
      "execution_count": null,
      "outputs": [
        {
          "output_type": "stream",
          "name": "stdout",
          "text": [
            "{'d'}\n"
          ]
        }
      ]
    },
    {
      "cell_type": "markdown",
      "source": [
        "#Dictionary"
      ],
      "metadata": {
        "id": "cMXRXwTTe2fM"
      }
    },
    {
      "cell_type": "markdown",
      "source": [
        "SETS ARE FASTER THAN THE TUPLES AND LISTS.\n",
        "-->In sets we can add elemnts but we cannot replace elemts in set, stores the elements in random positions so elements/items in sets doesn't have indexing position numbers, operations can be performed fastly.\n",
        "-->Whereas in tuple you cannot add elements but we cannot replace elemts in set"
      ],
      "metadata": {
        "id": "YDy74kTfV8CH"
      }
    },
    {
      "cell_type": "code",
      "source": [
        "#Define Dictionary\n",
        "'''It is represented using curly braces {}\n",
        "It is unordered,mutable\n",
        "won't allows duplicates'''\n",
        "#where we can store items/values/data in dictionary\n",
        "'''We can store elememts in key-value pairs'''"
      ],
      "metadata": {
        "id": "PixQ6Y_FXAu-"
      },
      "execution_count": null,
      "outputs": []
    },
    {
      "cell_type": "code",
      "source": [
        "#it won't allow duplicates(key-values pairs are seperated  by delimiters(,))\n",
        "d1={\n",
        "    \"name\":\"bindhu\",\n",
        "    \"age\":28,\n",
        "    \"education\":\"B.Tech\",\n",
        "    \"education\":\"CSE\"\n",
        "}\n",
        "print(d1)\n",
        "#here it outputs CSE in education instead od BTech as it won't allow duplicates"
      ],
      "metadata": {
        "colab": {
          "base_uri": "https://localhost:8080/"
        },
        "id": "8bobYkZXX9LZ",
        "outputId": "3f2c99e5-f7ee-4228-af7c-1653b04ac0f0"
      },
      "execution_count": null,
      "outputs": [
        {
          "output_type": "stream",
          "name": "stdout",
          "text": [
            "{'name': 'bindhu', 'age': 28, 'education': 'CSE'}\n"
          ]
        }
      ]
    },
    {
      "cell_type": "code",
      "source": [
        "#dictionary is unordered-->key-value pairs doesn't have index position numbers.\n",
        "\n",
        "d2={\n",
        "    \"name\":\"bindhu\",\n",
        "    \"age\":28,\n",
        "    \"education\":\"B.Tech\",\n",
        "    \"education\":\"CSE\",\n",
        "    \"fruits\":['apple','mango','kiwi','grapes']\n",
        "}\n",
        "\n",
        "#now how can we access the items in a dictionary?\n",
        "'''we can using key names'''\n",
        "print(d2[\"fruits\"])\n",
        "print(d2[\"education\"])"
      ],
      "metadata": {
        "colab": {
          "base_uri": "https://localhost:8080/"
        },
        "id": "78aDlQn-ZHrv",
        "outputId": "39f2caab-f7bb-4d3c-8993-2ba7dec2529c"
      },
      "execution_count": null,
      "outputs": [
        {
          "output_type": "stream",
          "name": "stdout",
          "text": [
            "['apple', 'mango', 'kiwi', 'grapes']\n",
            "CSE\n"
          ]
        }
      ]
    },
    {
      "cell_type": "code",
      "source": [
        "#Length of the dictionary\n",
        "'''len() method is used to find the length of the dictionary'''\n",
        "print(len(d2))\n",
        "#here we get length as 4 coz dict won't allow duplicates"
      ],
      "metadata": {
        "colab": {
          "base_uri": "https://localhost:8080/"
        },
        "id": "IwL_eg_Vasiu",
        "outputId": "d443a237-fcae-450a-8f61-7b715176382d"
      },
      "execution_count": null,
      "outputs": [
        {
          "output_type": "stream",
          "name": "stdout",
          "text": [
            "4\n"
          ]
        }
      ]
    },
    {
      "cell_type": "code",
      "source": [
        "#print only education\n",
        "print(d2['education'])"
      ],
      "metadata": {
        "colab": {
          "base_uri": "https://localhost:8080/"
        },
        "id": "fiRBnkL9a_nf",
        "outputId": "71e2d8a7-ac8c-47f0-d6f5-444ba23ca026"
      },
      "execution_count": null,
      "outputs": [
        {
          "output_type": "stream",
          "name": "stdout",
          "text": [
            "CSE\n"
          ]
        }
      ]
    },
    {
      "cell_type": "code",
      "source": [
        "d2={\n",
        "    \"name\":\"bindhu\",\n",
        "    \"age\":28,\n",
        "    \"education\":\"B.Tech\",\n",
        "    \"education\":\"CSE\",\n",
        "    \"fruits\":['apple','mango','kiwi','grapes']\n",
        "}\n",
        "#from above dictionary acces 'apple'\n",
        "print(d2['fruits'][0])\n",
        "#access kiwi\n",
        "print(d2['fruits'][2])"
      ],
      "metadata": {
        "colab": {
          "base_uri": "https://localhost:8080/"
        },
        "id": "qG45KjGEbI3T",
        "outputId": "e90f9569-ddb3-487f-c1e0-522101d4e0a3"
      },
      "execution_count": null,
      "outputs": [
        {
          "output_type": "stream",
          "name": "stdout",
          "text": [
            "apple\n",
            "kiwi\n"
          ]
        }
      ]
    },
    {
      "cell_type": "code",
      "source": [
        "#how to access two values mango and kiwi\n",
        "print(d2['fruits'][1:3])"
      ],
      "metadata": {
        "colab": {
          "base_uri": "https://localhost:8080/"
        },
        "id": "qamiaO66bvU3",
        "outputId": "8037a56c-e443-4ca2-d75d-73feb950f10a"
      },
      "execution_count": null,
      "outputs": [
        {
          "output_type": "stream",
          "name": "stdout",
          "text": [
            "['mango', 'kiwi']\n"
          ]
        }
      ]
    },
    {
      "cell_type": "markdown",
      "source": [
        "**Replace**\n",
        "\n",
        "**Add new key-value**\n"
      ],
      "metadata": {
        "id": "jaV2fSDCcfQ1"
      }
    },
    {
      "cell_type": "code",
      "source": [
        "#replace\n",
        "\n",
        "d2={\n",
        "    \"name\":\"bindhu\",\n",
        "    \"age\":28,\n",
        "    \"education\":\"B.Tech\",\n",
        "    \"education\":\"CSE\",\n",
        "    \"fruits\":['apple','mango','kiwi','grapes']\n",
        "}\n",
        "#how can you replace values in dictionary?\n",
        "'''use key name to replace the values'''\n",
        "d2[\"age\"]=30\n",
        "print(d2)\n",
        "d2['name']='sindhu'\n",
        "print(d2)"
      ],
      "metadata": {
        "colab": {
          "base_uri": "https://localhost:8080/"
        },
        "id": "IiaWsyjMcmp0",
        "outputId": "5140ba96-7f3b-45b5-e03e-2a2c5d429767"
      },
      "execution_count": null,
      "outputs": [
        {
          "output_type": "stream",
          "name": "stdout",
          "text": [
            "{'name': 'bindhu', 'age': 30, 'education': 'CSE', 'fruits': ['apple', 'mango', 'kiwi', 'grapes']}\n"
          ]
        }
      ]
    },
    {
      "cell_type": "code",
      "source": [
        "#how to add new new elemnts in dictionary\n",
        "d2['bike']='Activa'\n",
        "print(d2)\n",
        "'''NOTE: When we are replacing the values or adding a new key-value pair to the dictionary,\n",
        "if the key exists in the dict then it replaces the values with existing values\n",
        "if the key doesn't exists then new key-value pair will be addes to the dict'''"
      ],
      "metadata": {
        "colab": {
          "base_uri": "https://localhost:8080/"
        },
        "id": "kIfUZF_ndOI_",
        "outputId": "969e9274-e181-4d6a-b5c3-516be79275e7"
      },
      "execution_count": null,
      "outputs": [
        {
          "output_type": "stream",
          "name": "stdout",
          "text": [
            "{'name': 'bindhu', 'age': 30, 'education': 'CSE', 'fruits': ['apple', 'mango', 'kiwi', 'grapes'], 'bike': 'Activa'}\n"
          ]
        }
      ]
    },
    {
      "cell_type": "markdown",
      "source": [
        "**Delete elements in dictionary**"
      ],
      "metadata": {
        "id": "qoGMSigaeh8B"
      }
    },
    {
      "cell_type": "code",
      "source": [
        "#1st method: pop()\n",
        "d2={\n",
        "    \"name\":\"bindhu\",\n",
        "    \"age\":28,\n",
        "    \"education\":\"B.Tech\",\n",
        "    \"education\":\"CSE\",\n",
        "    \"fruits\":['apple','mango','kiwi','grapes']\n",
        "}\n",
        "#d2.pop() #pop expected at least 1 argument, got 0 because dictionary is unordered\n",
        "d2.pop('fruits')# we need to give the key name\n",
        "print(d2)"
      ],
      "metadata": {
        "colab": {
          "base_uri": "https://localhost:8080/"
        },
        "id": "rGm9_EBuekmD",
        "outputId": "a4f90627-4a1f-4a73-f34d-82aca5d276aa"
      },
      "execution_count": null,
      "outputs": [
        {
          "output_type": "stream",
          "name": "stdout",
          "text": [
            "{'name': 'bindhu', 'age': 28, 'education': 'CSE'}\n"
          ]
        }
      ]
    },
    {
      "cell_type": "code",
      "source": [
        "#replace new items to fruits in d2 dictionary ex: replace 'orange at 1st index position\n",
        "d2={\n",
        "    \"name\":\"bindhu\",\n",
        "    \"age\":28,\n",
        "    \"education\":\"B.Tech\",\n",
        "    \"education\":\"CSE\",\n",
        "    \"fruits\":['apple','mango','kiwi','grapes']\n",
        "}\n",
        "d2['fruits'][1]='orange'\n",
        "print(d2)"
      ],
      "metadata": {
        "colab": {
          "base_uri": "https://localhost:8080/"
        },
        "id": "xLaU9vRIfO9m",
        "outputId": "0f347a61-c4d8-419c-ff67-793668717d84"
      },
      "execution_count": null,
      "outputs": [
        {
          "output_type": "stream",
          "name": "stdout",
          "text": [
            "{'name': 'bindhu', 'age': 28, 'education': 'CSE', 'fruits': ['apple', 'orange', 'kiwi', 'grapes']}\n"
          ]
        }
      ]
    },
    {
      "cell_type": "code",
      "source": [
        "#how to add elements to fruits in dictionary\n",
        "'''use append method'''#syntax-->dict_name[key].append(value)\n",
        "#by default it append at last position\n",
        "d2={\n",
        "    \"name\":\"bindhu\",\n",
        "    \"age\":28,\n",
        "    \"education\":\"B.Tech\",\n",
        "    \"education\":\"CSE\",\n",
        "    \"fruits\":['apple','mango','kiwi','grapes']\n",
        "}\n",
        "d2['fruits'].append('lemon')\n",
        "print(d2)"
      ],
      "metadata": {
        "colab": {
          "base_uri": "https://localhost:8080/"
        },
        "id": "_rAPx5OpgEix",
        "outputId": "cd74630d-5ff2-4e20-da19-2c12f22aa4b2"
      },
      "execution_count": null,
      "outputs": [
        {
          "output_type": "stream",
          "name": "stdout",
          "text": [
            "{'name': 'bindhu', 'age': 28, 'education': 'CSE', 'fruits': ['apple', 'mango', 'kiwi', 'grapes', 'lemon']}\n"
          ]
        }
      ]
    },
    {
      "cell_type": "code",
      "source": [
        "#how to add elemts in fruits at particular position ex:add 'banana' at 3rd index position\n",
        "'''use insert method'''#syntax-->dict_name[key].insert(index,value)\n",
        "d2={\n",
        "    \"name\":\"bindhu\",\n",
        "    \"age\":28,\n",
        "    \"education\":\"B.Tech\",\n",
        "    \"education\":\"CSE\",\n",
        "    \"fruits\":['apple','mango','kiwi','grapes']\n",
        "}\n",
        "d2['fruits'].insert(3,'banana')\n",
        "print(d2)"
      ],
      "metadata": {
        "colab": {
          "base_uri": "https://localhost:8080/"
        },
        "id": "WNVoy_ikgZ31",
        "outputId": "af42e6c1-5106-49c5-c8ac-80f118e384c5"
      },
      "execution_count": null,
      "outputs": [
        {
          "output_type": "stream",
          "name": "stdout",
          "text": [
            "{'name': 'bindhu', 'age': 28, 'education': 'CSE', 'fruits': ['apple', 'mango', 'kiwi', 'banana', 'grapes']}\n"
          ]
        }
      ]
    },
    {
      "cell_type": "code",
      "source": [
        "#how to get the methods in dictionary\n",
        "'''use dir() method'''\n",
        "print(dir(d2))"
      ],
      "metadata": {
        "colab": {
          "base_uri": "https://localhost:8080/"
        },
        "id": "jd3bZngfhBnN",
        "outputId": "d1040411-c4ba-493a-8fb2-95cfeb4218d8"
      },
      "execution_count": null,
      "outputs": [
        {
          "output_type": "stream",
          "name": "stdout",
          "text": [
            "['__class__', '__class_getitem__', '__contains__', '__delattr__', '__delitem__', '__dir__', '__doc__', '__eq__', '__format__', '__ge__', '__getattribute__', '__getitem__', '__gt__', '__hash__', '__init__', '__init_subclass__', '__ior__', '__iter__', '__le__', '__len__', '__lt__', '__ne__', '__new__', '__or__', '__reduce__', '__reduce_ex__', '__repr__', '__reversed__', '__ror__', '__setattr__', '__setitem__', '__sizeof__', '__str__', '__subclasshook__', 'clear', 'copy', 'fromkeys', 'get', 'items', 'keys', 'pop', 'popitem', 'setdefault', 'update', 'values']\n"
          ]
        }
      ]
    },
    {
      "cell_type": "code",
      "source": [
        "d4={'name': 'bindhu',\n",
        "     'age': 28,\n",
        "     'education': 'CSE',\n",
        "     'fruits': ['apple', 'mango', 'kiwi', 'banana', 'grapes']\n",
        "}\n",
        "#d4.pop('fruits')[-1] #this will del entire fruits instead of deleting grapes\n",
        "\n",
        "\n",
        "# so to del only values in fruits\n",
        "'''we use del method'''\n",
        "del d4['age']\n",
        "print(d4)\n",
        "\n",
        "#to del particular list of items in a list we use '''del()''' method\n",
        "del d4['fruits'][1:3]\n",
        "print(d4)"
      ],
      "metadata": {
        "colab": {
          "base_uri": "https://localhost:8080/"
        },
        "id": "02ngk91SheG5",
        "outputId": "411a4932-dd9d-44a7-ac36-60a6a2e19af0"
      },
      "execution_count": null,
      "outputs": [
        {
          "output_type": "stream",
          "name": "stdout",
          "text": [
            "{'name': 'bindhu', 'education': 'CSE', 'fruits': ['apple', 'mango', 'kiwi', 'banana', 'grapes']}\n",
            "{'name': 'bindhu', 'education': 'CSE', 'fruits': ['apple', 'banana', 'grapes']}\n"
          ]
        }
      ]
    },
    {
      "cell_type": "code",
      "source": [
        "'''clear()` method'''\n",
        "#it clears entire data from dictionary\n",
        "#it doesn't deletes the dictionary\n",
        "d4.clear()\n",
        "print(d4)\n",
        "#when executes,it outputs a null dict"
      ],
      "metadata": {
        "colab": {
          "base_uri": "https://localhost:8080/"
        },
        "id": "JLvbhe4QkYwO",
        "outputId": "2c2b4cfa-8a22-42ee-d0a4-c18e6d8d1925"
      },
      "execution_count": null,
      "outputs": [
        {
          "output_type": "stream",
          "name": "stdout",
          "text": [
            "{}\n"
          ]
        }
      ]
    },
    {
      "cell_type": "code",
      "source": [
        "#how to dlete the dictionay\n",
        "'''use del method'''\n",
        "#del d4\n",
        "#print(d4)"
      ],
      "metadata": {
        "colab": {
          "base_uri": "https://localhost:8080/",
          "height": 36
        },
        "id": "fR9hAhobkubi",
        "outputId": "fb40d4d2-805b-48bc-e8ed-7749cd62b72f"
      },
      "execution_count": null,
      "outputs": [
        {
          "output_type": "execute_result",
          "data": {
            "text/plain": [
              "'use del method'"
            ],
            "application/vnd.google.colaboratory.intrinsic+json": {
              "type": "string"
            }
          },
          "metadata": {},
          "execution_count": 33
        }
      ]
    },
    {
      "cell_type": "code",
      "source": [
        "#deleting using discard method\n",
        "d4={'name': 'bindhu',\n",
        "     'age': 28,\n",
        "     'education': 'CSE',\n",
        "     'fruits': ['apple', 'mango', 'kiwi', 'banana', 'grapes']\n",
        "}\n",
        "#d4.discard('education')\n",
        "print(d4)\n",
        "#'dict' object has no attribute 'discard'\n",
        "#we cannot use discard method for removing elements in dictionary"
      ],
      "metadata": {
        "id": "tumBg7mmk6-o",
        "colab": {
          "base_uri": "https://localhost:8080/"
        },
        "outputId": "a0cee01b-d6d6-40ed-9616-d22424316a28"
      },
      "execution_count": null,
      "outputs": [
        {
          "output_type": "stream",
          "name": "stdout",
          "text": [
            "{'name': 'bindhu', 'age': 28, 'education': 'CSE', 'fruits': ['apple', 'mango', 'kiwi', 'banana', 'grapes']}\n"
          ]
        }
      ]
    },
    {
      "cell_type": "code",
      "source": [
        "#try the same operations using collection called set\n",
        "d4={'name': 'bindhu',\n",
        "     'age': 28,\n",
        "     'education': 'CSE',\n",
        "     'fruits': {'apple', 'mango', 'kiwi', 'banana', 'grapes'}\n",
        "}\n",
        "print(d4)\n",
        "#we cannot access the elements in set\n",
        "#add\n",
        "d4['fruits'].add('dry fruits')\n",
        "print(d4)"
      ],
      "metadata": {
        "colab": {
          "base_uri": "https://localhost:8080/"
        },
        "id": "CKrpCeMdOhcx",
        "outputId": "a38d189b-d7e0-4bcf-be92-b095c94cc705"
      },
      "execution_count": null,
      "outputs": [
        {
          "output_type": "stream",
          "name": "stdout",
          "text": [
            "{'name': 'bindhu', 'age': 28, 'education': 'CSE', 'fruits': {'apple', 'kiwi', 'banana', 'grapes', 'mango'}}\n",
            "{'name': 'bindhu', 'age': 28, 'education': 'CSE', 'fruits': {'apple', 'dry fruits', 'kiwi', 'banana', 'grapes', 'mango'}}\n"
          ]
        }
      ]
    },
    {
      "cell_type": "code",
      "source": [
        "#print only keys from above dict\n",
        "'''use keys() method'''\n",
        "print(d4.keys())"
      ],
      "metadata": {
        "colab": {
          "base_uri": "https://localhost:8080/"
        },
        "id": "oM39pKKNQYIv",
        "outputId": "eec27ead-54d1-4526-9ce3-7cf7d9adf1e9"
      },
      "execution_count": null,
      "outputs": [
        {
          "output_type": "stream",
          "name": "stdout",
          "text": [
            "dict_keys(['name', 'age', 'education', 'fruits'])\n"
          ]
        }
      ]
    },
    {
      "cell_type": "code",
      "source": [
        "#print only values from dict\n",
        "'''use values() method'''\n",
        "print(d4.values())"
      ],
      "metadata": {
        "colab": {
          "base_uri": "https://localhost:8080/"
        },
        "id": "m2-ZV_86QrPv",
        "outputId": "5ad6b0d8-76c2-4373-d66b-b8acef294790"
      },
      "execution_count": null,
      "outputs": [
        {
          "output_type": "stream",
          "name": "stdout",
          "text": [
            "dict_values(['bindhu', 28, 'CSE', {'d', 'u', 'n', 'i', 'a', 'banana', 'grapes', 'r', 'apple', 'dry fruits', 'kiwi', 's', 'mango'}])\n"
          ]
        }
      ]
    },
    {
      "cell_type": "code",
      "source": [
        "#print items from dict\n",
        "'''use items() method'''\n",
        "#items will be stored in tuples\n",
        "print(d4.items())"
      ],
      "metadata": {
        "colab": {
          "base_uri": "https://localhost:8080/"
        },
        "id": "hLiXqUiLRE6a",
        "outputId": "a155aeba-67ea-49bd-dd59-421343b12743"
      },
      "execution_count": null,
      "outputs": [
        {
          "output_type": "stream",
          "name": "stdout",
          "text": [
            "dict_items([('name', 'bindhu'), ('age', 28), ('education', 'CSE'), ('fruits', {'d', 'u', 'n', 'i', 'a', 'banana', 'grapes', 'r', 'apple', 'dry fruits', 'kiwi', 's', 'mango'})])\n"
          ]
        }
      ]
    },
    {
      "cell_type": "code",
      "source": [
        "#to print all keys in individual lines each\n",
        "print(d4.keys(),sep=\"\\n\")\n",
        "#it wont print in each line"
      ],
      "metadata": {
        "colab": {
          "base_uri": "https://localhost:8080/"
        },
        "id": "dfNo13DiRShC",
        "outputId": "bf5ed478-425c-46a5-c64e-ceba587839f8"
      },
      "execution_count": null,
      "outputs": [
        {
          "output_type": "stream",
          "name": "stdout",
          "text": [
            "dict_keys(['name', 'age', 'education', 'fruits'])\n"
          ]
        }
      ]
    },
    {
      "cell_type": "code",
      "source": [
        "#print keys in seperate line?\n",
        "d4={'name': 'bindhu',\n",
        "     'age': 28,\n",
        "     'education': 'CSE',\n",
        "     'fruits': ['apple', 'mango', 'kiwi', 'banana', 'grapes']\n",
        "}\n",
        "for x in d4.keys():\n",
        "  print(x)\n",
        "#print values in seperate line?\n",
        "for y in d4.values():\n",
        "  print(y)\n"
      ],
      "metadata": {
        "colab": {
          "base_uri": "https://localhost:8080/"
        },
        "id": "lyrcMM7zR1Fn",
        "outputId": "ad51622a-6cf5-45b6-c45e-2e9fc0d31f54"
      },
      "execution_count": null,
      "outputs": [
        {
          "output_type": "stream",
          "name": "stdout",
          "text": [
            "name\n",
            "age\n",
            "education\n",
            "fruits\n",
            "bindhu\n",
            "28\n",
            "CSE\n",
            "['apple', 'mango', 'kiwi', 'banana', 'grapes']\n"
          ]
        }
      ]
    },
    {
      "cell_type": "code",
      "source": [
        "#print key value pairs in format of\n",
        "for z in d4.keys():\n",
        "  print(f'{z}:{d4[z]}')"
      ],
      "metadata": {
        "colab": {
          "base_uri": "https://localhost:8080/"
        },
        "id": "GmkYkIPHT1Pu",
        "outputId": "88197d82-9d5e-4d9a-d9b2-a5a5d9c69743"
      },
      "execution_count": null,
      "outputs": [
        {
          "output_type": "stream",
          "name": "stdout",
          "text": [
            "name:bindhu\n",
            "age:28\n",
            "education:CSE\n",
            "fruits:['apple', 'mango', 'kiwi', 'banana', 'grapes']\n"
          ]
        }
      ]
    },
    {
      "cell_type": "code",
      "source": [
        "#escape chaeacters: to printn the illegal characters\n",
        "v=\"dwyne\\\"The rock\\\"Jhonson\"\n",
        "print(v)"
      ],
      "metadata": {
        "colab": {
          "base_uri": "https://localhost:8080/"
        },
        "id": "OznjtrXJ197f",
        "outputId": "48530d90-c3b7-4e25-eaf5-87304b4d88d0"
      },
      "execution_count": null,
      "outputs": [
        {
          "output_type": "stream",
          "name": "stdout",
          "text": [
            "dwyne\"The rock\"Jhonson\n"
          ]
        }
      ]
    },
    {
      "cell_type": "code",
      "source": [
        "#to replace world with universe\n",
        "\n",
        "v=\"hello world\"\n",
        "print(v.replace(\"world\",\"universe\"))"
      ],
      "metadata": {
        "id": "VbqAfW7Z2Jj2"
      },
      "execution_count": null,
      "outputs": []
    },
    {
      "cell_type": "code",
      "source": [
        "#pass: pass is a null place holder\n",
        "i=int(input())\n",
        "if i>0:\n",
        "  pass"
      ],
      "metadata": {
        "colab": {
          "base_uri": "https://localhost:8080/"
        },
        "id": "Z7i4g_IR2adE",
        "outputId": "90dfdbbf-78e6-4efb-a23b-04fa3eb798f1"
      },
      "execution_count": null,
      "outputs": [
        {
          "name": "stdout",
          "output_type": "stream",
          "text": [
            "3\n"
          ]
        }
      ]
    },
    {
      "cell_type": "code",
      "source": [
        "#conditional statements:\n",
        "#if-->elif-->else\n",
        "#when we use elif?\n",
        "#when there are more than two conditions\n",
        "\n"
      ],
      "metadata": {
        "id": "h34ZX2K82oNA"
      },
      "execution_count": null,
      "outputs": []
    },
    {
      "cell_type": "code",
      "source": [
        "# ==.>,<,!=,>=,<="
      ],
      "metadata": {
        "id": "q9Ga3DqT3Y_-"
      },
      "execution_count": null,
      "outputs": []
    },
    {
      "cell_type": "code",
      "source": [
        "#how to find the methods available on an object\n",
        "'''use dir() method'''\n",
        "print(dir(str))"
      ],
      "metadata": {
        "id": "MsZeTBr53-1p"
      },
      "execution_count": null,
      "outputs": []
    },
    {
      "cell_type": "markdown",
      "source": [
        "#summary on collections"
      ],
      "metadata": {
        "id": "rMdDIWae9JuS"
      }
    },
    {
      "cell_type": "code",
      "source": [
        "#LIST:ordered(indexing position),mutable(changeable),allow duplicates\n",
        "'''1.to add elements:pop()-deletes last elements\n",
        "                     append()-adds element at last position\n",
        "                     insert()-adds elemts at particular position\n",
        "                     extend()-adds multiple elements at last\n",
        "  2.to delete elements: pop()-deletes last elements\n",
        "                        remove()-\n",
        "                        del()-\n",
        "                        clear()-\n",
        "  3.to replace elements:"
      ],
      "metadata": {
        "id": "JPPjpki44pHV"
      },
      "execution_count": null,
      "outputs": []
    },
    {
      "cell_type": "code",
      "source": [
        "#TUPLE:-ordeered,immutable, allows duplicates\n",
        "#SET:-unordered(doesnt have index),immutable,wo't allows duplicates\n",
        "'''except replace or swapping elements we can to add and del operation'''\n",
        "'''1.ADD: Update,add\n",
        "2.DELETE: pop,del,discard,remove,clear\n",
        "3.Matrix operation: union,intersection'''\n"
      ],
      "metadata": {
        "id": "x23xzJ-l5gsi"
      },
      "execution_count": null,
      "outputs": []
    },
    {
      "cell_type": "code",
      "source": [
        "#DICTIONARY:-unordered,mutable,won't allow duplicates\n",
        "'''replace or swap:- dict_name['key_name']=\"name\"'''\n",
        "'''1.ADD: dict_name['new_key_name]=\"value\"-->adds new key:value pair\n",
        "   2.DELETE: pop,del,clear,discard'''"
      ],
      "metadata": {
        "id": "O0xD2uL36e86"
      },
      "execution_count": null,
      "outputs": []
    },
    {
      "cell_type": "code",
      "source": [
        "#what is heterogenous data and homogeneous data\n",
        "'''heterogeneous: id the collection is having differnt datatypes,then it is called heterogenous data\n",
        "   homogeneous: if the collection is having same datatypes,then it is called homogeneous data'''"
      ],
      "metadata": {
        "id": "jFjlvHEZ8IZ9"
      },
      "execution_count": null,
      "outputs": []
    },
    {
      "cell_type": "markdown",
      "source": [
        "#Functions"
      ],
      "metadata": {
        "id": "xFLIAebje_mc"
      }
    },
    {
      "cell_type": "code",
      "source": [
        "#What is function?\n",
        "#A function is a block of code which only runs when it is called.\n",
        "#You can pass data, known as parameters, into a function.\n",
        "#A function can return data as a result.\n"
      ],
      "metadata": {
        "id": "Uo93joaa8r_l"
      },
      "execution_count": null,
      "outputs": []
    },
    {
      "cell_type": "code",
      "source": [
        "#how to create funtion\n",
        "'''to create a function we need to use a keyword \"def\" '''\n",
        "def f1():\n",
        "  print(\"hello\")\n",
        "  print(\"this is running with a function\")\n",
        "  print(\"===============================\")\n",
        "#call the function\n",
        "f1()\n",
        "\n"
      ],
      "metadata": {
        "colab": {
          "base_uri": "https://localhost:8080/"
        },
        "id": "XRmESljP-wzc",
        "outputId": "aef6306f-323c-418d-a782-7b2718ff429f"
      },
      "execution_count": null,
      "outputs": [
        {
          "output_type": "stream",
          "name": "stdout",
          "text": [
            "hello\n",
            "this is running with a function\n",
            "===============================\n"
          ]
        }
      ]
    },
    {
      "cell_type": "code",
      "source": [
        "#create a function in name \"Zenvius welcome\"\n",
        "#print(\"hello good morning\")\n",
        "#print(\"this is ypour module2\")\n",
        "#print(please practise the session)\n",
        "\n",
        "def zenvius_welcome():\n",
        "  print(\"hello good morning\")\n",
        "  print(\"this is your module2\")\n",
        "  print(\"please practise the session\")\n",
        "zenvius_welcome()"
      ],
      "metadata": {
        "colab": {
          "base_uri": "https://localhost:8080/"
        },
        "id": "gjA8Gjgu_qKW",
        "outputId": "2313507a-8ffe-4edd-e725-f88a10cc168a"
      },
      "execution_count": null,
      "outputs": [
        {
          "output_type": "stream",
          "name": "stdout",
          "text": [
            "hello good morning\n",
            "this is your module2\n",
            "please practise the session\n"
          ]
        }
      ]
    },
    {
      "cell_type": "markdown",
      "source": [
        "**Parameter**\n",
        "\n",
        "**Arguments**"
      ],
      "metadata": {
        "id": "nJ1p08kLA_eR"
      }
    },
    {
      "cell_type": "code",
      "source": [
        "#what is parameter?\n",
        "'''creating a variable when u r defining a function is known as parameter'''\n",
        "def details(Name,Age,Gender,Education):\n",
        "  print(f'hello, this is {Name},and i am {Age}years old,my gender is {Gender},and I have complted my graduation in {Education}')\n",
        "\n",
        "details(\"Bindhu\",21,\"Female\",\"BTech\")\n",
        "#what are arguments?\n",
        "'''calling the function with certain values is known as arguments'''\n",
        "#NOTE: when you ahve given specific number of parametes while defining the function, then give the same no.of arguments."
      ],
      "metadata": {
        "colab": {
          "base_uri": "https://localhost:8080/"
        },
        "id": "qYFVUi34BHW5",
        "outputId": "3028bf59-93a9-4662-c726-5b5648a6ad3b"
      },
      "execution_count": null,
      "outputs": [
        {
          "output_type": "stream",
          "name": "stdout",
          "text": [
            "hello, this is Bindhu,and i am 21years old,my gender is Female,and I have complted my graduation in BTech\n"
          ]
        }
      ]
    },
    {
      "cell_type": "code",
      "source": [
        "#What should we do when we don't know how many parameters to pass in advance?\n",
        "'''u need to use ** in paramete'''\n",
        "def details(**name):\n",
        "  for x,y in name.items():\n",
        "    print(f'{x}={y}')\n",
        "#call function\n",
        "details(Nmae=\"python\",last_name=\"programming\",Age=34,Mobile=987654321)"
      ],
      "metadata": {
        "colab": {
          "base_uri": "https://localhost:8080/"
        },
        "id": "h3iN_VIQDQqH",
        "outputId": "3efa6bd8-24f7-4318-ccb9-2a4b1c2ef93d"
      },
      "execution_count": null,
      "outputs": [
        {
          "output_type": "stream",
          "name": "stdout",
          "text": [
            "Nmae=python\n",
            "last_name=programming\n",
            "Age=34\n",
            "Mobile=987654321\n"
          ]
        }
      ]
    },
    {
      "cell_type": "code",
      "source": [
        "def details(**name):\n",
        "  print(name)\n",
        "#call function\n",
        "details(Name=\"python\",last_name=\"programming\",Age=34,Mobile=987654321)"
      ],
      "metadata": {
        "colab": {
          "base_uri": "https://localhost:8080/"
        },
        "id": "zmj6aOzRFb_U",
        "outputId": "ff6ecf38-0f06-44f5-b5ee-fbdfc8323c21"
      },
      "execution_count": null,
      "outputs": [
        {
          "output_type": "stream",
          "name": "stdout",
          "text": [
            "{'Name': 'python', 'last_name': 'programming', 'Age': 34, 'Mobile': 987654321}\n"
          ]
        }
      ]
    },
    {
      "cell_type": "code",
      "source": [
        "#whenu don't know how many arguments u need to pass?\n",
        "'''we need to * in arguments'''\n",
        "\n",
        "def f4(n1,n2,n3,n4):\n",
        "  print(f'hello {n1}')\n",
        "f4(\"python\",\"java\",\"c\",\"cpp\")"
      ],
      "metadata": {
        "colab": {
          "base_uri": "https://localhost:8080/"
        },
        "id": "vJB8hOX_F7C2",
        "outputId": "49dcd5c2-2b61-4502-ad6e-d172aff1775b"
      },
      "execution_count": null,
      "outputs": [
        {
          "output_type": "stream",
          "name": "stdout",
          "text": [
            "hellopython\n"
          ]
        }
      ]
    },
    {
      "cell_type": "code",
      "source": [
        "def f5(*name):\n",
        "  print(name)\n",
        "f5('py','java','js','react','c','cpp')"
      ],
      "metadata": {
        "colab": {
          "base_uri": "https://localhost:8080/"
        },
        "id": "6qb96EtjGacN",
        "outputId": "57ad5fde-27f2-430d-bdc2-cf771657ce3f"
      },
      "execution_count": null,
      "outputs": [
        {
          "output_type": "stream",
          "name": "stdout",
          "text": [
            "('py', 'java', 'js', 'react', 'c', 'cpp')\n"
          ]
        }
      ]
    },
    {
      "cell_type": "code",
      "source": [
        "def f5(*name):\n",
        "  for x in name:\n",
        "    print(f'hello {x}')\n",
        "f5('py','java','js','react','c','cpp')"
      ],
      "metadata": {
        "colab": {
          "base_uri": "https://localhost:8080/"
        },
        "id": "d_8fDGDLHC4P",
        "outputId": "d8f89b1a-66f0-413e-f2b6-b9cc413d7963"
      },
      "execution_count": null,
      "outputs": [
        {
          "output_type": "stream",
          "name": "stdout",
          "text": [
            "hello py\n",
            "hello java\n",
            "hello js\n",
            "hello react\n",
            "hello c\n",
            "hello cpp\n"
          ]
        }
      ]
    },
    {
      "cell_type": "code",
      "source": [
        "#when you don't know how many parameters you have to pass?\n",
        "'''use ** when you don't know how many parameters has to pass\n",
        "   ** --> is called as Arbitrary keyword arguments(Kwargs)\n",
        "   and the default datatype for kwargs is dictionary'''\n"
      ],
      "metadata": {
        "id": "xRAb64wqHY2H"
      },
      "execution_count": null,
      "outputs": []
    },
    {
      "cell_type": "code",
      "source": [
        "#when you don't know how many arguments you have to pass?\n",
        "'''use * in arguments when you don't know how many arguments you need to pass\n",
        "   *-->is called as Arbitrary arguments(args)\n",
        "   the default dtatypes for args is tuple'''"
      ],
      "metadata": {
        "id": "XByLtOCyIBky"
      },
      "execution_count": null,
      "outputs": []
    },
    {
      "cell_type": "code",
      "source": [],
      "metadata": {
        "id": "Ay1GsX5uBg37"
      },
      "execution_count": null,
      "outputs": []
    },
    {
      "cell_type": "code",
      "source": [],
      "metadata": {
        "id": "U6_uh5JxBguP"
      },
      "execution_count": null,
      "outputs": []
    },
    {
      "cell_type": "code",
      "source": [],
      "metadata": {
        "id": "HyQcHxUMBggW"
      },
      "execution_count": null,
      "outputs": []
    },
    {
      "cell_type": "code",
      "source": [
        "#5. Write a Python program to add an item to a tuple.\n",
        "my_tuple=(\"apple\",\"banana\",\"cherry\",\"mango\")\n",
        "print(my_list)\n",
        "print(type(my_list))\n",
        "ele=\"kiwi\"\n",
        "my_list.append(ele)\n",
        "print(tuple(my_list))"
      ],
      "metadata": {
        "id": "LBwC8K_IIBB2",
        "colab": {
          "base_uri": "https://localhost:8080/"
        },
        "outputId": "4ab436a1-3ae9-4afe-b4e5-2a1e2003d687"
      },
      "execution_count": null,
      "outputs": [
        {
          "output_type": "stream",
          "name": "stdout",
          "text": [
            "['apple', 'banana', 'cherry', 'mango', 'kiwi']\n",
            "<class 'list'>\n",
            "('apple', 'banana', 'cherry', 'mango', 'kiwi', 'kiwi')\n"
          ]
        }
      ]
    },
    {
      "cell_type": "code",
      "source": [
        "s1 = {1, 2, 3, 4, 5}\n",
        "s2 = {2, 4, 6}\n",
        "print(s1 ^ s2)"
      ],
      "metadata": {
        "id": "w8358dk8NyqT",
        "outputId": "220b7fdc-fb59-4fd0-c52f-cb7cd01a74db",
        "colab": {
          "base_uri": "https://localhost:8080/"
        }
      },
      "execution_count": null,
      "outputs": [
        {
          "output_type": "stream",
          "name": "stdout",
          "text": [
            "{1, 3, 5, 6}\n"
          ]
        }
      ]
    },
    {
      "cell_type": "code",
      "source": [
        "def my_func(x, y):\n",
        "return x + y;\n",
        "my_func(1)"
      ],
      "metadata": {
        "id": "bVuP93sCVJhR",
        "outputId": "c8c86259-ce18-4bcf-cca1-a85a6e852905",
        "colab": {
          "base_uri": "https://localhost:8080/",
          "height": 109
        }
      },
      "execution_count": null,
      "outputs": [
        {
          "output_type": "error",
          "ename": "IndentationError",
          "evalue": "expected an indented block after function definition on line 1 (<ipython-input-1-e0cb60ed1c53>, line 2)",
          "traceback": [
            "\u001b[0;36m  File \u001b[0;32m\"<ipython-input-1-e0cb60ed1c53>\"\u001b[0;36m, line \u001b[0;32m2\u001b[0m\n\u001b[0;31m    return x + y;\u001b[0m\n\u001b[0m    ^\u001b[0m\n\u001b[0;31mIndentationError\u001b[0m\u001b[0;31m:\u001b[0m expected an indented block after function definition on line 1\n"
          ]
        }
      ]
    },
    {
      "cell_type": "code",
      "source": [
        "a=\"123456\"\n",
        "print(a[::3])"
      ],
      "metadata": {
        "colab": {
          "base_uri": "https://localhost:8080/"
        },
        "id": "2hECfigzZiYe",
        "outputId": "fa0be7b5-1d1d-48ce-dd71-de5800688be3"
      },
      "execution_count": null,
      "outputs": [
        {
          "output_type": "stream",
          "name": "stdout",
          "text": [
            "14\n"
          ]
        }
      ]
    },
    {
      "cell_type": "code",
      "source": [
        "#create list of numbers from 0 to 20?\n",
        "nums=[]\n",
        "for i in range (21):\n",
        "  nums.append(i)\n",
        "print(nums)"
      ],
      "metadata": {
        "colab": {
          "base_uri": "https://localhost:8080/"
        },
        "id": "rZdSPGD4AZMr",
        "outputId": "c1c2a1b9-1c12-48c0-9b0b-d852b5269775"
      },
      "execution_count": null,
      "outputs": [
        {
          "output_type": "stream",
          "name": "stdout",
          "text": [
            "[0, 1, 2, 3, 4, 5, 6, 7, 8, 9, 10, 11, 12, 13, 14, 15, 16, 17, 18, 19, 20]\n"
          ]
        }
      ]
    },
    {
      "cell_type": "code",
      "source": [
        "nums=[x for x in range(21)]\n",
        "print(nums)"
      ],
      "metadata": {
        "colab": {
          "base_uri": "https://localhost:8080/"
        },
        "id": "CC_lqEIpAZJF",
        "outputId": "a19f6f18-a578-4ed1-e1ec-a99a528e3537"
      },
      "execution_count": null,
      "outputs": [
        {
          "output_type": "stream",
          "name": "stdout",
          "text": [
            "[0, 1, 2, 3, 4, 5, 6, 7, 8, 9, 10, 11, 12, 13, 14, 15, 16, 17, 18, 19, 20]\n"
          ]
        }
      ]
    },
    {
      "cell_type": "code",
      "source": [
        "#from above if we want only even numbers\n",
        "nums=[x for x in range(21) if x%2==0]\n",
        "print(nums)"
      ],
      "metadata": {
        "colab": {
          "base_uri": "https://localhost:8080/"
        },
        "id": "Cw2DLNw0AZGe",
        "outputId": "79633906-7ead-4034-d351-155fb76a62d8"
      },
      "execution_count": null,
      "outputs": [
        {
          "output_type": "stream",
          "name": "stdout",
          "text": [
            "[0, 2, 4, 6, 8, 10, 12, 14, 16, 18, 20]\n"
          ]
        }
      ]
    },
    {
      "cell_type": "code",
      "source": [
        "#NOTE:So,list cimprehension can offer shorter syntax and also it is time efficient."
      ],
      "metadata": {
        "id": "zDj6nEEOAZDw"
      },
      "execution_count": null,
      "outputs": []
    },
    {
      "cell_type": "code",
      "source": [
        "#create a list  of numbers in range of 20\n",
        "#expected output must be multiples of 2\n",
        "nums=[x*2 for x in range(21)]\n",
        "print(nums)"
      ],
      "metadata": {
        "colab": {
          "base_uri": "https://localhost:8080/"
        },
        "id": "G0fpM21qAY58",
        "outputId": "1af8a5ae-8271-4a66-c562-9a3a5f9bbb41"
      },
      "execution_count": null,
      "outputs": [
        {
          "output_type": "stream",
          "name": "stdout",
          "text": [
            "[0, 2, 4, 6, 8, 10, 12, 14, 16, 18, 20, 22, 24, 26, 28, 30, 32, 34, 36, 38, 40]\n"
          ]
        }
      ]
    },
    {
      "cell_type": "markdown",
      "source": [
        " #classes & objects"
      ],
      "metadata": {
        "id": "HJV9S_Yq94kJ"
      }
    },
    {
      "cell_type": "code",
      "source": [
        "#Class is a bluefrint to create objects\n",
        "'''To create a class we need to use keyword \"class\"'''\n",
        "#syntax:\n",
        "'''class class_name:\n",
        "    method():\n",
        "      statements\n",
        "    variables'''\n",
        "\n",
        "'''A class consists of 2 things:\n",
        "1.Attributes-variables\n",
        "2.Behaviour-mathods(functions)'''\n"
      ],
      "metadata": {
        "id": "BXlNt2-qAY2s"
      },
      "execution_count": null,
      "outputs": []
    },
    {
      "cell_type": "code",
      "source": [
        "#what is object?\n",
        "'''object is an instance of a class'''\n",
        "#sntax:\n",
        "'''object_name=class_name()'''"
      ],
      "metadata": {
        "id": "Kj30YXIIAsDO"
      },
      "execution_count": null,
      "outputs": []
    },
    {
      "cell_type": "code",
      "source": [
        "#Attributes:\n",
        "'''the attribues can be 2types:\n",
        "1.class attributes:come from class and these attributes are accessible by every object.\n",
        "they are commom/shared attributes\n",
        "2.object attributes:these object attributes are unique attribues that can be applicable to particular object'''\n"
      ],
      "metadata": {
        "id": "oYs5XNRsAYz1"
      },
      "execution_count": null,
      "outputs": []
    },
    {
      "cell_type": "code",
      "source": [
        "#what are methods?\n",
        "'''methods can be created inside the class.'''\n",
        "'''methods are nothing but creating functions inside the class'''"
      ],
      "metadata": {
        "id": "n2Bj89_KAYxe"
      },
      "execution_count": null,
      "outputs": []
    },
    {
      "cell_type": "code",
      "source": [
        "#what is __init__?\n",
        "'''when i create an object by default it runs with __init__ method'''"
      ],
      "metadata": {
        "id": "CLGaJdN4AYup"
      },
      "execution_count": null,
      "outputs": []
    },
    {
      "cell_type": "code",
      "source": [
        "#what is self?\n",
        "'''self act as a pointer or reference to access the object\n",
        "when we are creating a function we need to call arguments, but when u are creating\n",
        "a method u should not call any arguments,so we use self()'''\n",
        "'''self is an extra parameter in a method definition'''"
      ],
      "metadata": {
        "id": "Hs-jLPacAYsh"
      },
      "execution_count": null,
      "outputs": []
    },
    {
      "cell_type": "code",
      "source": [
        "#what is __main()__?\n",
        "'''it is nothing but from which file the class is coming from'''\n",
        "'''i.e,a file where the class is coming from'''"
      ],
      "metadata": {
        "id": "8QhLDoAbAYqD"
      },
      "execution_count": null,
      "outputs": []
    },
    {
      "cell_type": "code",
      "source": [
        "# STEP1----> Create a class-->\"customer-->in a bank project\n",
        "# STEP2--->Create an object by using variables\n",
        "'''ex: c1=customer()'''\n",
        "# STEP3--->Creating class attributes inside the class-->these are common/shared attributes\n",
        "# STEP4--->How to access the class attributes by particular object\n",
        "'''print(c1.Bank_Name)'''\n",
        "# STEP5--->Created the methods inside the class which are nothing but functions inside class\n",
        "'''ex:welcome(),check_balance(),deposit(),withdraw()'''\n",
        "# STEP6--->how to access particular method by particular object\n",
        "'''ex:c1.welcome(),c1.deposit()'''"
      ],
      "metadata": {
        "id": "QB6lcVrpAgYU"
      },
      "execution_count": null,
      "outputs": []
    },
    {
      "cell_type": "code",
      "source": [],
      "metadata": {
        "id": "KVcJS4NZNXB5"
      },
      "execution_count": null,
      "outputs": []
    },
    {
      "cell_type": "code",
      "source": [],
      "metadata": {
        "id": "p0oHKEHhNW_Q"
      },
      "execution_count": null,
      "outputs": []
    },
    {
      "cell_type": "code",
      "source": [],
      "metadata": {
        "id": "xgsSaHtZNW8k"
      },
      "execution_count": null,
      "outputs": []
    },
    {
      "cell_type": "code",
      "source": [],
      "metadata": {
        "id": "_RvI1EDkNW55"
      },
      "execution_count": null,
      "outputs": []
    },
    {
      "cell_type": "code",
      "source": [],
      "metadata": {
        "id": "P4zCv8ZUNW2v"
      },
      "execution_count": null,
      "outputs": []
    },
    {
      "cell_type": "code",
      "source": [],
      "metadata": {
        "id": "9EqvzkFpNWyy"
      },
      "execution_count": null,
      "outputs": []
    }
  ]
}